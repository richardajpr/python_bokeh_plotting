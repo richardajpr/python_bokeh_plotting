{
 "cells": [
  {
   "cell_type": "markdown",
   "metadata": {},
   "source": [
    "### Properties of Bokeh plots"
   ]
  },
  {
   "cell_type": "markdown",
   "metadata": {},
   "source": [
    "Every plot has default properties such as\n",
    "*\tx-axis & y-axis\n",
    "*\tcolor\n",
    "*\tshape\n",
    "*\tsize\n",
    "*\tlegend\n",
    "*\tTooltip(Hover)\n",
    "\n",
    "Attributes of the data has to be mapped to the properties of the plot to make an informative visualization. It is very important to understand the kind of plot we use and how to map these properties to make a plot simple and informative. So let's discover how to use Boekh package to format these properties for plotting."
   ]
  },
  {
   "cell_type": "markdown",
   "metadata": {},
   "source": [
    "#### Import Bokeh for plotting"
   ]
  },
  {
   "cell_type": "code",
   "execution_count": null,
   "metadata": {},
   "outputs": [],
   "source": [
    "from bokeh.plotting import figure, show\n",
    "from bokeh.io import output_notebook"
   ]
  },
  {
   "cell_type": "code",
   "execution_count": null,
   "metadata": {},
   "outputs": [],
   "source": [
    "#To display bokeh plots inline in Jupyter Notebook\n",
    "output_notebook()"
   ]
  },
  {
   "cell_type": "markdown",
   "metadata": {},
   "source": [
    "#### Sample data for plotting"
   ]
  },
  {
   "cell_type": "code",
   "execution_count": null,
   "metadata": {},
   "outputs": [],
   "source": [
    "x = [1,2,3,4,5]\n",
    "y = [10,20,30,40,50]\n",
    "z = [50,40,25,20,10]"
   ]
  },
  {
   "cell_type": "markdown",
   "metadata": {},
   "source": [
    "#### Title and Axis labels"
   ]
  },
  {
   "cell_type": "markdown",
   "metadata": {},
   "source": [
    "It is very import that people should understand what we have plotted. Without title and axis labels the plot is always incomplete. Title is usually the summary of the plot. Axis labels explain the attributes and the metrics of the plot."
   ]
  },
  {
   "cell_type": "code",
   "execution_count": null,
   "metadata": {},
   "outputs": [],
   "source": [
    "p = figure(width = 500, height = 300, title = 'Title', x_axis_label = 'weight(in kg\\'s)', y_axis_label = 'height(in cm\\'s)')\n",
    "p.circle(x,y)\n",
    "show(p)"
   ]
  },
  {
   "cell_type": "markdown",
   "metadata": {},
   "source": [
    "<img src=\"./plots/02 - Title.png\">"
   ]
  },
  {
   "cell_type": "markdown",
   "metadata": {},
   "source": [
    "#### Formatting Title"
   ]
  },
  {
   "cell_type": "markdown",
   "metadata": {},
   "source": [
    "Normally a title has to stand out from the plot as it gives the overview of the plot. So the following options can help us formatting the title."
   ]
  },
  {
   "cell_type": "code",
   "execution_count": null,
   "metadata": {},
   "outputs": [],
   "source": [
    "#Creating or editing the title\n",
    "p.title.text = 'New Title'\n",
    "#Basic font types: Helvetica(Arial), Courier, Fixedsys, Symbol, System, Times, Verdana\n",
    "p.title.text_font = 'Verdana'\n",
    "#text_font_size takes a string value of a number followed by 'pt'\n",
    "p.title.text_font_size = '18pt'\n",
    "#text_font_style allowed values('normal', 'italic', 'bold')\n",
    "p.title.text_font_style = 'bold'\n",
    "#text_color accepts python inpretable color codes or hexadecimals\n",
    "p.title.text_color = 'maroon'\n",
    "#title_location allowed values('above', 'below', 'left', 'right')\n",
    "p.title_location = 'above'\n",
    "#title.align allowed values('left', 'right', 'center')\n",
    "p.title.align = 'center'"
   ]
  },
  {
   "cell_type": "code",
   "execution_count": null,
   "metadata": {},
   "outputs": [],
   "source": [
    "show(p)"
   ]
  },
  {
   "cell_type": "markdown",
   "metadata": {},
   "source": [
    "<img src=\"./plots/02 - Title format.png\">"
   ]
  },
  {
   "cell_type": "markdown",
   "metadata": {},
   "source": [
    "#### Formatting axis labels"
   ]
  },
  {
   "cell_type": "markdown",
   "metadata": {},
   "source": [
    "Axis labels are informations about the attributes and metrics of a plot. It is a good practice to add measures of metrics in the axis labels. Default axis label are usually enough in most of the situations. But when presenting the plot to someone else, we may need to format the axis labels. Example below have the codes for formatting some major properties of x-axis labels. The same applies to y-axis just by changing the first letter from 'x' to 'y'."
   ]
  },
  {
   "cell_type": "code",
   "execution_count": null,
   "metadata": {},
   "outputs": [],
   "source": [
    "#Basic Plot\n",
    "p = figure(width = 500, height = 300, title = 'Something', x_axis_label = 'weight', y_axis_label = 'height')\n",
    "p.circle(x,y)\n",
    "#Changing the x-axis label\n",
    "p.xaxis.axis_label = 'Weight in kg\\'s'\n",
    "p.yaxis.axis_label = 'Height(in cm\\'s)'\n",
    "#axis_label_text_font_size takes a string value of a number followed by 'pt'\n",
    "p.xaxis.axis_label_text_font_size = '15pt'\n",
    "#axis_label_text_color accepts inpretable color codes or hexadecimals\n",
    "p.xaxis.axis_label_text_color = 'orange'\n",
    "#axis_label_standoff is the distance between axis line and the label and takes the integer Value\n",
    "p.xaxis.axis_label_standoff = 10"
   ]
  },
  {
   "cell_type": "code",
   "execution_count": null,
   "metadata": {},
   "outputs": [],
   "source": [
    "show(p)"
   ]
  },
  {
   "cell_type": "markdown",
   "metadata": {},
   "source": [
    "<img src=\"./plots/02 - Axis label.png\">"
   ]
  },
  {
   "cell_type": "markdown",
   "metadata": {},
   "source": [
    "#### Axis Tick"
   ]
  },
  {
   "cell_type": "markdown",
   "metadata": {},
   "source": [
    "Axis tick are scales of the units for numeric values. Major ticks are usually boundaries between the scales and will have a value tagged to it, whereas minor ticks are marked in the interval between the boundaries without any values."
   ]
  },
  {
   "cell_type": "code",
   "execution_count": null,
   "metadata": {},
   "outputs": [],
   "source": [
    "p = figure(width = 500, height = 300, title = 'Title', x_axis_label = 'weight(in kg\\'s)', y_axis_label = 'height(in cm\\'s)')\n",
    "p.circle(x,y)\n",
    "# major_tick_line_color\n",
    "p.xaxis.major_tick_line_color = 'lightgreen'\n",
    "# major_label_text_font_size\n",
    "p.xaxis.major_label_text_font_size = '15pt'\n",
    "# turn off x-axis minor ticks\n",
    "p.xaxis.minor_tick_line_color = None\n",
    "#expected an element of either 'horizontal' or 'vertical'\n",
    "p.xaxis.major_label_orientation = 'vertical'"
   ]
  },
  {
   "cell_type": "code",
   "execution_count": null,
   "metadata": {},
   "outputs": [],
   "source": [
    "show(p)"
   ]
  },
  {
   "cell_type": "markdown",
   "metadata": {},
   "source": [
    "<img src=\"./plots/02 - Axis ticks.png\">"
   ]
  },
  {
   "cell_type": "markdown",
   "metadata": {},
   "source": [
    "#### Color"
   ]
  },
  {
   "cell_type": "markdown",
   "metadata": {},
   "source": [
    "Color are usually used to differentiate the categories in a plot. Also it improves the look and feel of the plot."
   ]
  },
  {
   "cell_type": "code",
   "execution_count": null,
   "metadata": {},
   "outputs": [],
   "source": [
    "p = figure(width = 500, height = 300, title = 'Title', x_axis_label = 'weight(in kg\\'s)', y_axis_label = 'height(in cm\\'s)')\n",
    "#Adding color to the plots\n",
    "p.line(x,y, color = 'lightblue')\n",
    "p.circle(x,y,color = 'red')"
   ]
  },
  {
   "cell_type": "code",
   "execution_count": null,
   "metadata": {},
   "outputs": [],
   "source": [
    "show(p)"
   ]
  },
  {
   "cell_type": "markdown",
   "metadata": {},
   "source": [
    "<img src=\"./plots/02 - Color.png\">"
   ]
  },
  {
   "cell_type": "markdown",
   "metadata": {},
   "source": [
    "#### Shapes and Size"
   ]
  },
  {
   "cell_type": "markdown",
   "metadata": {},
   "source": [
    "Shapes are again used to differentiate the categories in the plot. Size of the shapes can also be informative while mapping the size property to data value. Normally size and shape go hand in hand together."
   ]
  },
  {
   "cell_type": "code",
   "execution_count": null,
   "metadata": {},
   "outputs": [],
   "source": [
    "p = figure(width = 500, height = 300, title = 'Title', x_axis_label = 'weight(in kg\\'s)', y_axis_label = 'height(in cm\\'s)')\n",
    "p.line(x,y, color = 'lightblue')\n",
    "#Adding Shapes and size\n",
    "p.square(x,y,color = 'yellow', size = 12)\n",
    "show(p)"
   ]
  },
  {
   "cell_type": "markdown",
   "metadata": {},
   "source": [
    "<img src=\"./plots/02 - Shape.png\">"
   ]
  },
  {
   "cell_type": "markdown",
   "metadata": {},
   "source": [
    "#### Combing Color, Shapes and Sizes"
   ]
  },
  {
   "cell_type": "markdown",
   "metadata": {},
   "source": [
    "Combining all of the above properties can be more informative and helps us to visualize multiple dimensions in a single plot."
   ]
  },
  {
   "cell_type": "code",
   "execution_count": null,
   "metadata": {},
   "outputs": [],
   "source": [
    "p = figure(width = 500, height = 300, title = 'Title', x_axis_label = 'weight(in kg\\'s)', y_axis_label = 'height(in cm\\'s)')\n",
    "#Formatting line size\n",
    "p.line(x, y, line_width=2)\n",
    "#Formatting color of the circle\n",
    "p.circle(x, y, fill_color=\"white\", size=10)\n",
    "show(p)"
   ]
  },
  {
   "cell_type": "markdown",
   "metadata": {},
   "source": [
    "<img src=\"./plots/02 - Combination.png\">"
   ]
  },
  {
   "cell_type": "markdown",
   "metadata": {},
   "source": [
    "#### Legends"
   ]
  },
  {
   "cell_type": "markdown",
   "metadata": {},
   "source": [
    "Legends are representation of the color and shapes. When we use colors and shapes to represent different categories, its important label color and shapes in the form of legends. Without legend people may not understand which category does each of the color or shape represents and the plot is useless without the information."
   ]
  },
  {
   "cell_type": "code",
   "execution_count": null,
   "metadata": {},
   "outputs": [],
   "source": [
    "from bokeh.models import Legend\n",
    "p = figure(width = 500, height = 300, title = 'Title', x_axis_label = 'weight(in kg\\'s)', y_axis_label = 'height(in cm\\'s)')\n",
    "p.circle(x = x, y = y, color = 'violet', size = 8, legend = 'pink')\n",
    "p.square(x = x, y = z, color = 'orange', size = 8, legend = 'orange')\n",
    "#expected an element of either Enum('top_left', 'top_center', 'top_right',\n",
    "#                                   'center_left', 'center', 'center_right',\n",
    "#                                   'bottom_left', 'bottom_center', 'bottom_right')\n",
    "p.legend.location = \"top_center\"\n",
    "show(p)"
   ]
  },
  {
   "cell_type": "markdown",
   "metadata": {},
   "source": [
    "<img src=\"./plots/02 - Legends.png\">"
   ]
  },
  {
   "cell_type": "markdown",
   "metadata": {},
   "source": [
    "#### Tooltip(Hover)"
   ]
  },
  {
   "cell_type": "markdown",
   "metadata": {},
   "source": [
    "Tooltips are informations that pops up when we hover the pointers. Tooltip is not a mandatory property, but having them in a plot is really handy. It makes the plot interactive easy to use."
   ]
  },
  {
   "cell_type": "code",
   "execution_count": null,
   "metadata": {},
   "outputs": [],
   "source": [
    "from bokeh.models import HoverTool, BoxSelectTool\n",
    "hover = HoverTool(\n",
    "        tooltips=[\n",
    "            (\"(x axis)\", \"($x)\"),\n",
    "            (\"(y axis)\", \"($y)\"),\n",
    "        ]\n",
    "    )\n",
    "p = figure(plot_width=500, plot_height=300, tools=[hover], title=\"Mouse over the dots\")\n",
    "p.circle(x, y, size=5)\n",
    "show(p)"
   ]
  },
  {
   "cell_type": "markdown",
   "metadata": {},
   "source": [
    "<img src=\"./plots/02 - Hover.png\">"
   ]
  },
  {
   "cell_type": "markdown",
   "metadata": {},
   "source": [
    "Tooltip (Hover) is an extra feature that Bokeh brings for interactive plotting. In the future notebooks we'll see much more interactions using Bokeh plotting. This is where Bokeh standout from the normal python plotting packages."
   ]
  },
  {
   "cell_type": "markdown",
   "metadata": {},
   "source": [
    "#### Summary"
   ]
  },
  {
   "cell_type": "markdown",
   "metadata": {},
   "source": [
    "In this notebook we understand the different properties of a plot using Bokeh Package.\n",
    "\n",
    "We learned:\n",
    "- Format x-axis and y-axis labels\n",
    "- Format x-axis and y-axis ticks\n",
    "- Add color, shape and size to a plot\n",
    "- Formating tooltip (Hover)"
   ]
  }
 ],
 "metadata": {
  "kernelspec": {
   "display_name": "Python 3",
   "language": "python",
   "name": "python3"
  },
  "language_info": {
   "codemirror_mode": {
    "name": "ipython",
    "version": 3
   },
   "file_extension": ".py",
   "mimetype": "text/x-python",
   "name": "python",
   "nbconvert_exporter": "python",
   "pygments_lexer": "ipython3",
   "version": "3.6.5"
  }
 },
 "nbformat": 4,
 "nbformat_minor": 2
}
