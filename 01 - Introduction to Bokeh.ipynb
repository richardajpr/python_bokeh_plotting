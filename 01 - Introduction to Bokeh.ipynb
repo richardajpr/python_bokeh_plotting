{
 "cells": [
  {
   "cell_type": "markdown",
   "metadata": {},
   "source": [
    "# Bokeh"
   ]
  },
  {
   "cell_type": "markdown",
   "metadata": {},
   "source": [
    "Bokeh is an interactive visualization library that targets modern web browsers for presentation. Its goal is to provide elegant, concise construction of versatile graphics, and to extend this capability with high-performance interactivity over very large or streaming datasets. Bokeh can help anyone who would like to quickly and easily create interactive plots, dashboards, and data applications. Source: https://bokeh.pydata.org/ ."
   ]
  },
  {
   "cell_type": "markdown",
   "metadata": {},
   "source": [
    "#### Import Bokeh for plotting"
   ]
  },
  {
   "cell_type": "code",
   "execution_count": null,
   "metadata": {},
   "outputs": [],
   "source": [
    "from bokeh.plotting import figure, show\n",
    "from bokeh.io import output_notebook"
   ]
  },
  {
   "cell_type": "code",
   "execution_count": null,
   "metadata": {},
   "outputs": [],
   "source": [
    "#To display bokeh plots inline in Jupyter Notebook\n",
    "output_notebook()"
   ]
  },
  {
   "cell_type": "markdown",
   "metadata": {},
   "source": [
    "#### Plotting Basics"
   ]
  },
  {
   "cell_type": "markdown",
   "metadata": {},
   "source": [
    "Creating some list of data points for plotting."
   ]
  },
  {
   "cell_type": "code",
   "execution_count": null,
   "metadata": {},
   "outputs": [],
   "source": [
    "x = [1,2,3,4,5]\n",
    "y = [10,20,30,40,50]"
   ]
  },
  {
   "cell_type": "markdown",
   "metadata": {},
   "source": [
    "1. Initiate plot using *figure* function\n",
    "2. Map data points to the plot along with kind of plot(*line, circle, etc...*)\n",
    "3. Print the plot using *show*"
   ]
  },
  {
   "cell_type": "code",
   "execution_count": null,
   "metadata": {},
   "outputs": [],
   "source": [
    "p = figure(width = 500, height = 300)"
   ]
  },
  {
   "cell_type": "code",
   "execution_count": null,
   "metadata": {},
   "outputs": [],
   "source": [
    "p.line(x,y)\n",
    "p.circle(x,y)"
   ]
  },
  {
   "cell_type": "code",
   "execution_count": null,
   "metadata": {},
   "outputs": [],
   "source": [
    "show(p)"
   ]
  },
  {
   "cell_type": "markdown",
   "metadata": {},
   "source": [
    "<img src=\"./plots/01 - Basic Plot.png\">"
   ]
  },
  {
   "cell_type": "markdown",
   "metadata": {},
   "source": [
    "These are the basic blocks of plotting in bokeh. Let's move forward and construct some more different types of plots."
   ]
  },
  {
   "cell_type": "markdown",
   "metadata": {},
   "source": [
    "#### Bar Plot"
   ]
  },
  {
   "cell_type": "markdown",
   "metadata": {},
   "source": [
    "Bar plots are the basic plots used to show the relation between categorical and the numerical value. __In order to plot bar plot using categorical values, mention the categorical value while initiating the figure by assigning the variable to x_range.__"
   ]
  },
  {
   "cell_type": "code",
   "execution_count": null,
   "metadata": {},
   "outputs": [],
   "source": [
    "#Generate data\n",
    "x = ['a','b','c']\n",
    "y = [20,15,25]\n",
    "\n",
    "#Initiate plot objects\n",
    "bar = figure(x_range=x,width = 500, height = 300)\n",
    "\n",
    "#Create a vertical bar plot\n",
    "bar.vbar(x = x, top = y, color = 'lightblue', width = 0.5)\n",
    "\n",
    "#Print the plot\n",
    "show(bar)"
   ]
  },
  {
   "cell_type": "markdown",
   "metadata": {},
   "source": [
    "<img src=\"./plots/01 - Bar Plot.png\">"
   ]
  },
  {
   "cell_type": "markdown",
   "metadata": {},
   "source": [
    "#### Scatter Plot"
   ]
  },
  {
   "cell_type": "markdown",
   "metadata": {},
   "source": [
    "Scatter plot pairs the numerical variables in x and y axis respectively to show the relation between two numeric values."
   ]
  },
  {
   "cell_type": "code",
   "execution_count": null,
   "metadata": {},
   "outputs": [],
   "source": [
    "#Generate data\n",
    "x = [1.92, 4.2, 1.87, 2.48, 2.27, 4.06, 1.3, 4.27, 3.99, 1.77]\n",
    "y = [186, 342, 264, 417, 334, 326, 306, 427, 412, 121]\n",
    "\n",
    "#Initiate plot objects\n",
    "scatter = figure()\n",
    "\n",
    "#Create a scatter plot\n",
    "scatter.circle(x, y, color = 'blue', alpha = 0.6, size =5)\n",
    "\n",
    "#Print the plot\n",
    "show(scatter)"
   ]
  },
  {
   "cell_type": "markdown",
   "metadata": {},
   "source": [
    "<img src=\"./plots/01 - Scatter Plot.png\">"
   ]
  },
  {
   "cell_type": "markdown",
   "metadata": {},
   "source": [
    "#### Line Plot"
   ]
  },
  {
   "cell_type": "markdown",
   "metadata": {},
   "source": [
    "A line plot is a graph that shows the some metrics of data occurring along a number line or a time period."
   ]
  },
  {
   "cell_type": "code",
   "execution_count": null,
   "metadata": {},
   "outputs": [],
   "source": [
    "#Generate data\n",
    "x = [2001,2002,2003,2004,2005,2006,2007,2008,2009,2010]\n",
    "y = [ 2, 4, 7, 10, 12, 16, 18, 20, 25, 28]\n",
    "\n",
    "#Initiate plot objects\n",
    "line = figure()\n",
    "\n",
    "#Create a line plot\n",
    "line.line(x, y, color = 'green')\n",
    "\n",
    "#Print the plot\n",
    "show(line)"
   ]
  },
  {
   "cell_type": "markdown",
   "metadata": {},
   "source": [
    "<img src=\"./plots/01 - Line Plot.png\">"
   ]
  },
  {
   "cell_type": "markdown",
   "metadata": {},
   "source": [
    "#### Summary"
   ]
  },
  {
   "cell_type": "markdown",
   "metadata": {},
   "source": [
    "In this notebook we started with the brief introduction to python's bokeh package.\n",
    "\n",
    "We learned:\n",
    "    - How to call bokeh library in python\n",
    "    - Bokeh plotting basics\n",
    "    - How to construct Bar plot, Scatter plot and Line plot using bokeh"
   ]
  }
 ],
 "metadata": {
  "kernelspec": {
   "display_name": "Python 3",
   "language": "python",
   "name": "python3"
  },
  "language_info": {
   "codemirror_mode": {
    "name": "ipython",
    "version": 3
   },
   "file_extension": ".py",
   "mimetype": "text/x-python",
   "name": "python",
   "nbconvert_exporter": "python",
   "pygments_lexer": "ipython3",
   "version": "3.6.5"
  }
 },
 "nbformat": 4,
 "nbformat_minor": 2
}
