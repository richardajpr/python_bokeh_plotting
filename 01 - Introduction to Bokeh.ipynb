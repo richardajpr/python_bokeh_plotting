{
 "cells": [
  {
   "cell_type": "markdown",
   "metadata": {},
   "source": [
    "# Bokeh"
   ]
  },
  {
   "cell_type": "markdown",
   "metadata": {},
   "source": [
    "Bokeh is an interactive visualization library that targets modern web browsers for presentation. Its goal is to provide elegant, concise construction of versatile graphics, and to extend this capability with high-performance interactivity over very large or streaming datasets. Bokeh can help anyone who would like to quickly and easily create interactive plots, dashboards, and data applications. Source: https://bokeh.pydata.org/ ."
   ]
  },
  {
   "cell_type": "markdown",
   "metadata": {},
   "source": [
    "#### Import Bokeh for plotting"
   ]
  },
  {
   "cell_type": "code",
   "execution_count": 4,
   "metadata": {},
   "outputs": [],
   "source": [
    "from bokeh.plotting import figure, show\n",
    "from bokeh.io import output_notebook"
   ]
  },
  {
   "cell_type": "code",
   "execution_count": 42,
   "metadata": {},
   "outputs": [
    {
     "data": {
      "text/html": [
       "\n",
       "    <div class=\"bk-root\">\n",
       "        <a href=\"https://bokeh.pydata.org\" target=\"_blank\" class=\"bk-logo bk-logo-small bk-logo-notebook\"></a>\n",
       "        <span id=\"44b173f0-0b41-4ce8-8f64-dbdc4a07f5c2\">Loading BokehJS ...</span>\n",
       "    </div>"
      ]
     },
     "metadata": {},
     "output_type": "display_data"
    },
    {
     "data": {
      "application/javascript": [
       "\n",
       "(function(root) {\n",
       "  function now() {\n",
       "    return new Date();\n",
       "  }\n",
       "\n",
       "  var force = true;\n",
       "\n",
       "  if (typeof (root._bokeh_onload_callbacks) === \"undefined\" || force === true) {\n",
       "    root._bokeh_onload_callbacks = [];\n",
       "    root._bokeh_is_loading = undefined;\n",
       "  }\n",
       "\n",
       "  var JS_MIME_TYPE = 'application/javascript';\n",
       "  var HTML_MIME_TYPE = 'text/html';\n",
       "  var EXEC_MIME_TYPE = 'application/vnd.bokehjs_exec.v0+json';\n",
       "  var CLASS_NAME = 'output_bokeh rendered_html';\n",
       "\n",
       "  /**\n",
       "   * Render data to the DOM node\n",
       "   */\n",
       "  function render(props, node) {\n",
       "    var script = document.createElement(\"script\");\n",
       "    node.appendChild(script);\n",
       "  }\n",
       "\n",
       "  /**\n",
       "   * Handle when an output is cleared or removed\n",
       "   */\n",
       "  function handleClearOutput(event, handle) {\n",
       "    var cell = handle.cell;\n",
       "\n",
       "    var id = cell.output_area._bokeh_element_id;\n",
       "    var server_id = cell.output_area._bokeh_server_id;\n",
       "    // Clean up Bokeh references\n",
       "    if (id !== undefined) {\n",
       "      Bokeh.index[id].model.document.clear();\n",
       "      delete Bokeh.index[id];\n",
       "    }\n",
       "\n",
       "    if (server_id !== undefined) {\n",
       "      // Clean up Bokeh references\n",
       "      var cmd = \"from bokeh.io.state import curstate; print(curstate().uuid_to_server['\" + server_id + \"'].get_sessions()[0].document.roots[0]._id)\";\n",
       "      cell.notebook.kernel.execute(cmd, {\n",
       "        iopub: {\n",
       "          output: function(msg) {\n",
       "            var element_id = msg.content.text.trim();\n",
       "            Bokeh.index[element_id].model.document.clear();\n",
       "            delete Bokeh.index[element_id];\n",
       "          }\n",
       "        }\n",
       "      });\n",
       "      // Destroy server and session\n",
       "      var cmd = \"import bokeh.io.notebook as ion; ion.destroy_server('\" + server_id + \"')\";\n",
       "      cell.notebook.kernel.execute(cmd);\n",
       "    }\n",
       "  }\n",
       "\n",
       "  /**\n",
       "   * Handle when a new output is added\n",
       "   */\n",
       "  function handleAddOutput(event, handle) {\n",
       "    var output_area = handle.output_area;\n",
       "    var output = handle.output;\n",
       "\n",
       "    // limit handleAddOutput to display_data with EXEC_MIME_TYPE content only\n",
       "    if ((output.output_type != \"display_data\") || (!output.data.hasOwnProperty(EXEC_MIME_TYPE))) {\n",
       "      return\n",
       "    }\n",
       "\n",
       "    var toinsert = output_area.element.find(\".\" + CLASS_NAME.split(' ')[0]);\n",
       "\n",
       "    if (output.metadata[EXEC_MIME_TYPE][\"id\"] !== undefined) {\n",
       "      toinsert[toinsert.length - 1].firstChild.textContent = output.data[JS_MIME_TYPE];\n",
       "      // store reference to embed id on output_area\n",
       "      output_area._bokeh_element_id = output.metadata[EXEC_MIME_TYPE][\"id\"];\n",
       "    }\n",
       "    if (output.metadata[EXEC_MIME_TYPE][\"server_id\"] !== undefined) {\n",
       "      var bk_div = document.createElement(\"div\");\n",
       "      bk_div.innerHTML = output.data[HTML_MIME_TYPE];\n",
       "      var script_attrs = bk_div.children[0].attributes;\n",
       "      for (var i = 0; i < script_attrs.length; i++) {\n",
       "        toinsert[toinsert.length - 1].firstChild.setAttribute(script_attrs[i].name, script_attrs[i].value);\n",
       "      }\n",
       "      // store reference to server id on output_area\n",
       "      output_area._bokeh_server_id = output.metadata[EXEC_MIME_TYPE][\"server_id\"];\n",
       "    }\n",
       "  }\n",
       "\n",
       "  function register_renderer(events, OutputArea) {\n",
       "\n",
       "    function append_mime(data, metadata, element) {\n",
       "      // create a DOM node to render to\n",
       "      var toinsert = this.create_output_subarea(\n",
       "        metadata,\n",
       "        CLASS_NAME,\n",
       "        EXEC_MIME_TYPE\n",
       "      );\n",
       "      this.keyboard_manager.register_events(toinsert);\n",
       "      // Render to node\n",
       "      var props = {data: data, metadata: metadata[EXEC_MIME_TYPE]};\n",
       "      render(props, toinsert[toinsert.length - 1]);\n",
       "      element.append(toinsert);\n",
       "      return toinsert\n",
       "    }\n",
       "\n",
       "    /* Handle when an output is cleared or removed */\n",
       "    events.on('clear_output.CodeCell', handleClearOutput);\n",
       "    events.on('delete.Cell', handleClearOutput);\n",
       "\n",
       "    /* Handle when a new output is added */\n",
       "    events.on('output_added.OutputArea', handleAddOutput);\n",
       "\n",
       "    /**\n",
       "     * Register the mime type and append_mime function with output_area\n",
       "     */\n",
       "    OutputArea.prototype.register_mime_type(EXEC_MIME_TYPE, append_mime, {\n",
       "      /* Is output safe? */\n",
       "      safe: true,\n",
       "      /* Index of renderer in `output_area.display_order` */\n",
       "      index: 0\n",
       "    });\n",
       "  }\n",
       "\n",
       "  // register the mime type if in Jupyter Notebook environment and previously unregistered\n",
       "  if (root.Jupyter !== undefined) {\n",
       "    var events = require('base/js/events');\n",
       "    var OutputArea = require('notebook/js/outputarea').OutputArea;\n",
       "\n",
       "    if (OutputArea.prototype.mime_types().indexOf(EXEC_MIME_TYPE) == -1) {\n",
       "      register_renderer(events, OutputArea);\n",
       "    }\n",
       "  }\n",
       "\n",
       "  \n",
       "  if (typeof (root._bokeh_timeout) === \"undefined\" || force === true) {\n",
       "    root._bokeh_timeout = Date.now() + 5000;\n",
       "    root._bokeh_failed_load = false;\n",
       "  }\n",
       "\n",
       "  var NB_LOAD_WARNING = {'data': {'text/html':\n",
       "     \"<div style='background-color: #fdd'>\\n\"+\n",
       "     \"<p>\\n\"+\n",
       "     \"BokehJS does not appear to have successfully loaded. If loading BokehJS from CDN, this \\n\"+\n",
       "     \"may be due to a slow or bad network connection. Possible fixes:\\n\"+\n",
       "     \"</p>\\n\"+\n",
       "     \"<ul>\\n\"+\n",
       "     \"<li>re-rerun `output_notebook()` to attempt to load from CDN again, or</li>\\n\"+\n",
       "     \"<li>use INLINE resources instead, as so:</li>\\n\"+\n",
       "     \"</ul>\\n\"+\n",
       "     \"<code>\\n\"+\n",
       "     \"from bokeh.resources import INLINE\\n\"+\n",
       "     \"output_notebook(resources=INLINE)\\n\"+\n",
       "     \"</code>\\n\"+\n",
       "     \"</div>\"}};\n",
       "\n",
       "  function display_loaded() {\n",
       "    var el = document.getElementById(\"44b173f0-0b41-4ce8-8f64-dbdc4a07f5c2\");\n",
       "    if (el != null) {\n",
       "      el.textContent = \"BokehJS is loading...\";\n",
       "    }\n",
       "    if (root.Bokeh !== undefined) {\n",
       "      if (el != null) {\n",
       "        el.textContent = \"BokehJS \" + root.Bokeh.version + \" successfully loaded.\";\n",
       "      }\n",
       "    } else if (Date.now() < root._bokeh_timeout) {\n",
       "      setTimeout(display_loaded, 100)\n",
       "    }\n",
       "  }\n",
       "\n",
       "\n",
       "  function run_callbacks() {\n",
       "    try {\n",
       "      root._bokeh_onload_callbacks.forEach(function(callback) { callback() });\n",
       "    }\n",
       "    finally {\n",
       "      delete root._bokeh_onload_callbacks\n",
       "    }\n",
       "    console.info(\"Bokeh: all callbacks have finished\");\n",
       "  }\n",
       "\n",
       "  function load_libs(js_urls, callback) {\n",
       "    root._bokeh_onload_callbacks.push(callback);\n",
       "    if (root._bokeh_is_loading > 0) {\n",
       "      console.log(\"Bokeh: BokehJS is being loaded, scheduling callback at\", now());\n",
       "      return null;\n",
       "    }\n",
       "    if (js_urls == null || js_urls.length === 0) {\n",
       "      run_callbacks();\n",
       "      return null;\n",
       "    }\n",
       "    console.log(\"Bokeh: BokehJS not loaded, scheduling load and callback at\", now());\n",
       "    root._bokeh_is_loading = js_urls.length;\n",
       "    for (var i = 0; i < js_urls.length; i++) {\n",
       "      var url = js_urls[i];\n",
       "      var s = document.createElement('script');\n",
       "      s.src = url;\n",
       "      s.async = false;\n",
       "      s.onreadystatechange = s.onload = function() {\n",
       "        root._bokeh_is_loading--;\n",
       "        if (root._bokeh_is_loading === 0) {\n",
       "          console.log(\"Bokeh: all BokehJS libraries loaded\");\n",
       "          run_callbacks()\n",
       "        }\n",
       "      };\n",
       "      s.onerror = function() {\n",
       "        console.warn(\"failed to load library \" + url);\n",
       "      };\n",
       "      console.log(\"Bokeh: injecting script tag for BokehJS library: \", url);\n",
       "      document.getElementsByTagName(\"head\")[0].appendChild(s);\n",
       "    }\n",
       "  };var element = document.getElementById(\"44b173f0-0b41-4ce8-8f64-dbdc4a07f5c2\");\n",
       "  if (element == null) {\n",
       "    console.log(\"Bokeh: ERROR: autoload.js configured with elementid '44b173f0-0b41-4ce8-8f64-dbdc4a07f5c2' but no matching script tag was found. \")\n",
       "    return false;\n",
       "  }\n",
       "\n",
       "  var js_urls = [\"https://cdn.pydata.org/bokeh/release/bokeh-0.12.16.min.js\", \"https://cdn.pydata.org/bokeh/release/bokeh-widgets-0.12.16.min.js\", \"https://cdn.pydata.org/bokeh/release/bokeh-tables-0.12.16.min.js\", \"https://cdn.pydata.org/bokeh/release/bokeh-gl-0.12.16.min.js\"];\n",
       "\n",
       "  var inline_js = [\n",
       "    function(Bokeh) {\n",
       "      Bokeh.set_log_level(\"info\");\n",
       "    },\n",
       "    \n",
       "    function(Bokeh) {\n",
       "      \n",
       "    },\n",
       "    function(Bokeh) {\n",
       "      console.log(\"Bokeh: injecting CSS: https://cdn.pydata.org/bokeh/release/bokeh-0.12.16.min.css\");\n",
       "      Bokeh.embed.inject_css(\"https://cdn.pydata.org/bokeh/release/bokeh-0.12.16.min.css\");\n",
       "      console.log(\"Bokeh: injecting CSS: https://cdn.pydata.org/bokeh/release/bokeh-widgets-0.12.16.min.css\");\n",
       "      Bokeh.embed.inject_css(\"https://cdn.pydata.org/bokeh/release/bokeh-widgets-0.12.16.min.css\");\n",
       "      console.log(\"Bokeh: injecting CSS: https://cdn.pydata.org/bokeh/release/bokeh-tables-0.12.16.min.css\");\n",
       "      Bokeh.embed.inject_css(\"https://cdn.pydata.org/bokeh/release/bokeh-tables-0.12.16.min.css\");\n",
       "    }\n",
       "  ];\n",
       "\n",
       "  function run_inline_js() {\n",
       "    \n",
       "    if ((root.Bokeh !== undefined) || (force === true)) {\n",
       "      for (var i = 0; i < inline_js.length; i++) {\n",
       "        inline_js[i].call(root, root.Bokeh);\n",
       "      }if (force === true) {\n",
       "        display_loaded();\n",
       "      }} else if (Date.now() < root._bokeh_timeout) {\n",
       "      setTimeout(run_inline_js, 100);\n",
       "    } else if (!root._bokeh_failed_load) {\n",
       "      console.log(\"Bokeh: BokehJS failed to load within specified timeout.\");\n",
       "      root._bokeh_failed_load = true;\n",
       "    } else if (force !== true) {\n",
       "      var cell = $(document.getElementById(\"44b173f0-0b41-4ce8-8f64-dbdc4a07f5c2\")).parents('.cell').data().cell;\n",
       "      cell.output_area.append_execute_result(NB_LOAD_WARNING)\n",
       "    }\n",
       "\n",
       "  }\n",
       "\n",
       "  if (root._bokeh_is_loading === 0) {\n",
       "    console.log(\"Bokeh: BokehJS loaded, going straight to plotting\");\n",
       "    run_inline_js();\n",
       "  } else {\n",
       "    load_libs(js_urls, function() {\n",
       "      console.log(\"Bokeh: BokehJS plotting callback run at\", now());\n",
       "      run_inline_js();\n",
       "    });\n",
       "  }\n",
       "}(window));"
      ],
      "application/vnd.bokehjs_load.v0+json": "\n(function(root) {\n  function now() {\n    return new Date();\n  }\n\n  var force = true;\n\n  if (typeof (root._bokeh_onload_callbacks) === \"undefined\" || force === true) {\n    root._bokeh_onload_callbacks = [];\n    root._bokeh_is_loading = undefined;\n  }\n\n  \n\n  \n  if (typeof (root._bokeh_timeout) === \"undefined\" || force === true) {\n    root._bokeh_timeout = Date.now() + 5000;\n    root._bokeh_failed_load = false;\n  }\n\n  var NB_LOAD_WARNING = {'data': {'text/html':\n     \"<div style='background-color: #fdd'>\\n\"+\n     \"<p>\\n\"+\n     \"BokehJS does not appear to have successfully loaded. If loading BokehJS from CDN, this \\n\"+\n     \"may be due to a slow or bad network connection. Possible fixes:\\n\"+\n     \"</p>\\n\"+\n     \"<ul>\\n\"+\n     \"<li>re-rerun `output_notebook()` to attempt to load from CDN again, or</li>\\n\"+\n     \"<li>use INLINE resources instead, as so:</li>\\n\"+\n     \"</ul>\\n\"+\n     \"<code>\\n\"+\n     \"from bokeh.resources import INLINE\\n\"+\n     \"output_notebook(resources=INLINE)\\n\"+\n     \"</code>\\n\"+\n     \"</div>\"}};\n\n  function display_loaded() {\n    var el = document.getElementById(\"44b173f0-0b41-4ce8-8f64-dbdc4a07f5c2\");\n    if (el != null) {\n      el.textContent = \"BokehJS is loading...\";\n    }\n    if (root.Bokeh !== undefined) {\n      if (el != null) {\n        el.textContent = \"BokehJS \" + root.Bokeh.version + \" successfully loaded.\";\n      }\n    } else if (Date.now() < root._bokeh_timeout) {\n      setTimeout(display_loaded, 100)\n    }\n  }\n\n\n  function run_callbacks() {\n    try {\n      root._bokeh_onload_callbacks.forEach(function(callback) { callback() });\n    }\n    finally {\n      delete root._bokeh_onload_callbacks\n    }\n    console.info(\"Bokeh: all callbacks have finished\");\n  }\n\n  function load_libs(js_urls, callback) {\n    root._bokeh_onload_callbacks.push(callback);\n    if (root._bokeh_is_loading > 0) {\n      console.log(\"Bokeh: BokehJS is being loaded, scheduling callback at\", now());\n      return null;\n    }\n    if (js_urls == null || js_urls.length === 0) {\n      run_callbacks();\n      return null;\n    }\n    console.log(\"Bokeh: BokehJS not loaded, scheduling load and callback at\", now());\n    root._bokeh_is_loading = js_urls.length;\n    for (var i = 0; i < js_urls.length; i++) {\n      var url = js_urls[i];\n      var s = document.createElement('script');\n      s.src = url;\n      s.async = false;\n      s.onreadystatechange = s.onload = function() {\n        root._bokeh_is_loading--;\n        if (root._bokeh_is_loading === 0) {\n          console.log(\"Bokeh: all BokehJS libraries loaded\");\n          run_callbacks()\n        }\n      };\n      s.onerror = function() {\n        console.warn(\"failed to load library \" + url);\n      };\n      console.log(\"Bokeh: injecting script tag for BokehJS library: \", url);\n      document.getElementsByTagName(\"head\")[0].appendChild(s);\n    }\n  };var element = document.getElementById(\"44b173f0-0b41-4ce8-8f64-dbdc4a07f5c2\");\n  if (element == null) {\n    console.log(\"Bokeh: ERROR: autoload.js configured with elementid '44b173f0-0b41-4ce8-8f64-dbdc4a07f5c2' but no matching script tag was found. \")\n    return false;\n  }\n\n  var js_urls = [\"https://cdn.pydata.org/bokeh/release/bokeh-0.12.16.min.js\", \"https://cdn.pydata.org/bokeh/release/bokeh-widgets-0.12.16.min.js\", \"https://cdn.pydata.org/bokeh/release/bokeh-tables-0.12.16.min.js\", \"https://cdn.pydata.org/bokeh/release/bokeh-gl-0.12.16.min.js\"];\n\n  var inline_js = [\n    function(Bokeh) {\n      Bokeh.set_log_level(\"info\");\n    },\n    \n    function(Bokeh) {\n      \n    },\n    function(Bokeh) {\n      console.log(\"Bokeh: injecting CSS: https://cdn.pydata.org/bokeh/release/bokeh-0.12.16.min.css\");\n      Bokeh.embed.inject_css(\"https://cdn.pydata.org/bokeh/release/bokeh-0.12.16.min.css\");\n      console.log(\"Bokeh: injecting CSS: https://cdn.pydata.org/bokeh/release/bokeh-widgets-0.12.16.min.css\");\n      Bokeh.embed.inject_css(\"https://cdn.pydata.org/bokeh/release/bokeh-widgets-0.12.16.min.css\");\n      console.log(\"Bokeh: injecting CSS: https://cdn.pydata.org/bokeh/release/bokeh-tables-0.12.16.min.css\");\n      Bokeh.embed.inject_css(\"https://cdn.pydata.org/bokeh/release/bokeh-tables-0.12.16.min.css\");\n    }\n  ];\n\n  function run_inline_js() {\n    \n    if ((root.Bokeh !== undefined) || (force === true)) {\n      for (var i = 0; i < inline_js.length; i++) {\n        inline_js[i].call(root, root.Bokeh);\n      }if (force === true) {\n        display_loaded();\n      }} else if (Date.now() < root._bokeh_timeout) {\n      setTimeout(run_inline_js, 100);\n    } else if (!root._bokeh_failed_load) {\n      console.log(\"Bokeh: BokehJS failed to load within specified timeout.\");\n      root._bokeh_failed_load = true;\n    } else if (force !== true) {\n      var cell = $(document.getElementById(\"44b173f0-0b41-4ce8-8f64-dbdc4a07f5c2\")).parents('.cell').data().cell;\n      cell.output_area.append_execute_result(NB_LOAD_WARNING)\n    }\n\n  }\n\n  if (root._bokeh_is_loading === 0) {\n    console.log(\"Bokeh: BokehJS loaded, going straight to plotting\");\n    run_inline_js();\n  } else {\n    load_libs(js_urls, function() {\n      console.log(\"Bokeh: BokehJS plotting callback run at\", now());\n      run_inline_js();\n    });\n  }\n}(window));"
     },
     "metadata": {},
     "output_type": "display_data"
    }
   ],
   "source": [
    "#To display bokeh plots inline in Jupyter Notebook\n",
    "output_notebook()"
   ]
  },
  {
   "cell_type": "markdown",
   "metadata": {},
   "source": [
    "#### Plotting Basics"
   ]
  },
  {
   "cell_type": "markdown",
   "metadata": {},
   "source": [
    "Creating some list of data points for plotting."
   ]
  },
  {
   "cell_type": "code",
   "execution_count": 7,
   "metadata": {},
   "outputs": [],
   "source": [
    "x = [1,2,3,4,5]\n",
    "y = [10,20,30,40,50]"
   ]
  },
  {
   "cell_type": "markdown",
   "metadata": {},
   "source": [
    "1. Initiate plot using *figure* function\n",
    "2. Map data points to the plot along with kind of plot(*line, circle, etc...*)\n",
    "3. Print the plot using *show*"
   ]
  },
  {
   "cell_type": "code",
   "execution_count": 17,
   "metadata": {},
   "outputs": [],
   "source": [
    "p = figure()"
   ]
  },
  {
   "cell_type": "code",
   "execution_count": 18,
   "metadata": {},
   "outputs": [
    {
     "data": {
      "text/html": [
       "<div style=\"display: table;\"><div style=\"display: table-row;\"><div style=\"display: table-cell;\"><b title=\"bokeh.models.renderers.GlyphRenderer\">GlyphRenderer</b>(</div><div style=\"display: table-cell;\">id&nbsp;=&nbsp;'2787722f-f674-4779-96d2-c9f13ee5ca4a', <span id=\"9e77e35c-61aa-4598-8e81-35a17af7a12a\" style=\"cursor: pointer;\">&hellip;)</span></div></div><div class=\"1d177487-024d-434b-b470-6a903f9af1fd\" style=\"display: none;\"><div style=\"display: table-cell;\"></div><div style=\"display: table-cell;\">data_source&nbsp;=&nbsp;ColumnDataSource(id='9f7587cd-e684-4577-80d1-0f817ad13e5d', ...),</div></div><div class=\"1d177487-024d-434b-b470-6a903f9af1fd\" style=\"display: none;\"><div style=\"display: table-cell;\"></div><div style=\"display: table-cell;\">glyph&nbsp;=&nbsp;Circle(id='678ed8e6-d564-4179-8e8d-54c936634eb0', ...),</div></div><div class=\"1d177487-024d-434b-b470-6a903f9af1fd\" style=\"display: none;\"><div style=\"display: table-cell;\"></div><div style=\"display: table-cell;\">hover_glyph&nbsp;=&nbsp;None,</div></div><div class=\"1d177487-024d-434b-b470-6a903f9af1fd\" style=\"display: none;\"><div style=\"display: table-cell;\"></div><div style=\"display: table-cell;\">js_event_callbacks&nbsp;=&nbsp;{},</div></div><div class=\"1d177487-024d-434b-b470-6a903f9af1fd\" style=\"display: none;\"><div style=\"display: table-cell;\"></div><div style=\"display: table-cell;\">js_property_callbacks&nbsp;=&nbsp;{},</div></div><div class=\"1d177487-024d-434b-b470-6a903f9af1fd\" style=\"display: none;\"><div style=\"display: table-cell;\"></div><div style=\"display: table-cell;\">level&nbsp;=&nbsp;'glyph',</div></div><div class=\"1d177487-024d-434b-b470-6a903f9af1fd\" style=\"display: none;\"><div style=\"display: table-cell;\"></div><div style=\"display: table-cell;\">muted&nbsp;=&nbsp;False,</div></div><div class=\"1d177487-024d-434b-b470-6a903f9af1fd\" style=\"display: none;\"><div style=\"display: table-cell;\"></div><div style=\"display: table-cell;\">muted_glyph&nbsp;=&nbsp;None,</div></div><div class=\"1d177487-024d-434b-b470-6a903f9af1fd\" style=\"display: none;\"><div style=\"display: table-cell;\"></div><div style=\"display: table-cell;\">name&nbsp;=&nbsp;None,</div></div><div class=\"1d177487-024d-434b-b470-6a903f9af1fd\" style=\"display: none;\"><div style=\"display: table-cell;\"></div><div style=\"display: table-cell;\">nonselection_glyph&nbsp;=&nbsp;Circle(id='acb9070a-65df-4085-8053-e41af090d6a2', ...),</div></div><div class=\"1d177487-024d-434b-b470-6a903f9af1fd\" style=\"display: none;\"><div style=\"display: table-cell;\"></div><div style=\"display: table-cell;\">selection_glyph&nbsp;=&nbsp;None,</div></div><div class=\"1d177487-024d-434b-b470-6a903f9af1fd\" style=\"display: none;\"><div style=\"display: table-cell;\"></div><div style=\"display: table-cell;\">subscribed_events&nbsp;=&nbsp;[],</div></div><div class=\"1d177487-024d-434b-b470-6a903f9af1fd\" style=\"display: none;\"><div style=\"display: table-cell;\"></div><div style=\"display: table-cell;\">tags&nbsp;=&nbsp;[],</div></div><div class=\"1d177487-024d-434b-b470-6a903f9af1fd\" style=\"display: none;\"><div style=\"display: table-cell;\"></div><div style=\"display: table-cell;\">view&nbsp;=&nbsp;CDSView(id='7a50b747-9a58-4a69-9384-ae9eba8c2216', ...),</div></div><div class=\"1d177487-024d-434b-b470-6a903f9af1fd\" style=\"display: none;\"><div style=\"display: table-cell;\"></div><div style=\"display: table-cell;\">visible&nbsp;=&nbsp;True,</div></div><div class=\"1d177487-024d-434b-b470-6a903f9af1fd\" style=\"display: none;\"><div style=\"display: table-cell;\"></div><div style=\"display: table-cell;\">x_range_name&nbsp;=&nbsp;'default',</div></div><div class=\"1d177487-024d-434b-b470-6a903f9af1fd\" style=\"display: none;\"><div style=\"display: table-cell;\"></div><div style=\"display: table-cell;\">y_range_name&nbsp;=&nbsp;'default')</div></div></div>\n",
       "<script>\n",
       "(function() {\n",
       "  var expanded = false;\n",
       "  var ellipsis = document.getElementById(\"9e77e35c-61aa-4598-8e81-35a17af7a12a\");\n",
       "  ellipsis.addEventListener(\"click\", function() {\n",
       "    var rows = document.getElementsByClassName(\"1d177487-024d-434b-b470-6a903f9af1fd\");\n",
       "    for (var i = 0; i < rows.length; i++) {\n",
       "      var el = rows[i];\n",
       "      el.style.display = expanded ? \"none\" : \"table-row\";\n",
       "    }\n",
       "    ellipsis.innerHTML = expanded ? \"&hellip;)\" : \"&lsaquo;&lsaquo;&lsaquo;\";\n",
       "    expanded = !expanded;\n",
       "  });\n",
       "})();\n",
       "</script>\n"
      ],
      "text/plain": [
       "bokeh.models.renderers.GlyphRenderer(\n",
       "    id='2787722f-f674-4779-96d2-c9f13ee5ca4a',\n",
       "    data_source=bokeh.models.sources.ColumnDataSource(\n",
       "        id='9f7587cd-e684-4577-80d1-0f817ad13e5d',\n",
       "        callback=None,\n",
       "        data={'x': [1, 2, 3, 4, 5], 'y': [10, 20, 30, 40, 50]},\n",
       "        js_event_callbacks={},\n",
       "        js_property_callbacks={},\n",
       "        name=None,\n",
       "        selected=bokeh.models.selections.Selection(\n",
       "            id='fd0c00e7-15b9-40e9-86e5-dde77dcd1665',\n",
       "            indices=[],\n",
       "            js_event_callbacks={},\n",
       "            js_property_callbacks={},\n",
       "            line_indices=[],\n",
       "            multiline_indices={},\n",
       "            name=None,\n",
       "            subscribed_events=[],\n",
       "            tags=[]),\n",
       "        selection_policy=bokeh.models.selections.UnionRenderers(\n",
       "            id='5b284475-2ae3-44ee-94ea-700932afae6c',\n",
       "            js_event_callbacks={},\n",
       "            js_property_callbacks={},\n",
       "            name=None,\n",
       "            subscribed_events=[],\n",
       "            tags=[]),\n",
       "        subscribed_events=[],\n",
       "        tags=[]),\n",
       "    glyph=bokeh.models.markers.Circle(\n",
       "        id='678ed8e6-d564-4179-8e8d-54c936634eb0',\n",
       "        angle={'value': 0.0, 'units': 'rad'},\n",
       "        fill_alpha={'value': 1.0},\n",
       "        fill_color={'value': '#1f77b4'},\n",
       "        js_event_callbacks={},\n",
       "        js_property_callbacks={},\n",
       "        line_alpha={'value': 1.0},\n",
       "        line_cap='butt',\n",
       "        line_color={'value': '#1f77b4'},\n",
       "        line_dash=[],\n",
       "        line_dash_offset=0,\n",
       "        line_join='miter',\n",
       "        line_width={'value': 1},\n",
       "        name=None,\n",
       "        radius=None,\n",
       "        radius_dimension='x',\n",
       "        size={'value': 4, 'units': 'screen'},\n",
       "        subscribed_events=[],\n",
       "        tags=[],\n",
       "        x={'field': 'x'},\n",
       "        y={'field': 'y'}),\n",
       "    hover_glyph=None,\n",
       "    js_event_callbacks={},\n",
       "    js_property_callbacks={},\n",
       "    level='glyph',\n",
       "    muted=False,\n",
       "    muted_glyph=None,\n",
       "    name=None,\n",
       "    nonselection_glyph=bokeh.models.markers.Circle(\n",
       "        id='acb9070a-65df-4085-8053-e41af090d6a2',\n",
       "        angle={'value': 0.0, 'units': 'rad'},\n",
       "        fill_alpha={'value': 0.1},\n",
       "        fill_color={'value': '#1f77b4'},\n",
       "        js_event_callbacks={},\n",
       "        js_property_callbacks={},\n",
       "        line_alpha={'value': 0.1},\n",
       "        line_cap='butt',\n",
       "        line_color={'value': '#1f77b4'},\n",
       "        line_dash=[],\n",
       "        line_dash_offset=0,\n",
       "        line_join='miter',\n",
       "        line_width={'value': 1},\n",
       "        name=None,\n",
       "        radius=None,\n",
       "        radius_dimension='x',\n",
       "        size={'value': 4, 'units': 'screen'},\n",
       "        subscribed_events=[],\n",
       "        tags=[],\n",
       "        x={'field': 'x'},\n",
       "        y={'field': 'y'}),\n",
       "    selection_glyph=None,\n",
       "    subscribed_events=[],\n",
       "    tags=[],\n",
       "    view=bokeh.models.sources.CDSView(\n",
       "        id='7a50b747-9a58-4a69-9384-ae9eba8c2216',\n",
       "        filters=[],\n",
       "        js_event_callbacks={},\n",
       "        js_property_callbacks={},\n",
       "        name=None,\n",
       "        source=bokeh.models.sources.ColumnDataSource(\n",
       "            id='9f7587cd-e684-4577-80d1-0f817ad13e5d',\n",
       "            callback=None,\n",
       "            data={'x': [1, 2, 3, 4, 5], 'y': [10, 20, 30, 40, 50]},\n",
       "            js_event_callbacks={},\n",
       "            js_property_callbacks={},\n",
       "            name=None,\n",
       "            selected=bokeh.models.selections.Selection(\n",
       "                id='fd0c00e7-15b9-40e9-86e5-dde77dcd1665',\n",
       "                indices=[],\n",
       "                js_event_callbacks={},\n",
       "                js_property_callbacks={},\n",
       "                line_indices=[],\n",
       "                multiline_indices={},\n",
       "                name=None,\n",
       "                subscribed_events=[],\n",
       "                tags=[]),\n",
       "            selection_policy=bokeh.models.selections.UnionRenderers(\n",
       "                id='5b284475-2ae3-44ee-94ea-700932afae6c',\n",
       "                js_event_callbacks={},\n",
       "                js_property_callbacks={},\n",
       "                name=None,\n",
       "                subscribed_events=[],\n",
       "                tags=[]),\n",
       "            subscribed_events=[],\n",
       "            tags=[]),\n",
       "        subscribed_events=[],\n",
       "        tags=[]),\n",
       "    visible=True,\n",
       "    x_range_name='default',\n",
       "    y_range_name='default')"
      ]
     },
     "execution_count": 18,
     "metadata": {},
     "output_type": "execute_result"
    }
   ],
   "source": [
    "p.line(x,y)\n",
    "p.circle(x,y)"
   ]
  },
  {
   "cell_type": "code",
   "execution_count": 19,
   "metadata": {},
   "outputs": [
    {
     "data": {
      "text/html": [
       "\n",
       "<div class=\"bk-root\">\n",
       "    <div class=\"bk-plotdiv\" id=\"4aad638e-bd57-4faa-9c99-a12a8126395a\"></div>\n",
       "</div>"
      ]
     },
     "metadata": {},
     "output_type": "display_data"
    },
    {
     "data": {
      "application/javascript": [
       "(function(root) {\n",
       "  function embed_document(root) {\n",
       "    \n",
       "  var docs_json = {\"96d96281-2b27-49e5-8a5e-dcce96d672ca\":{\"roots\":{\"references\":[{\"attributes\":{\"plot\":{\"id\":\"1b2695ab-9784-4e73-ab43-c082ea282114\",\"subtype\":\"Figure\",\"type\":\"Plot\"},\"ticker\":{\"id\":\"89fbdd19-c3bf-4b7b-9704-d434f2ab0be5\",\"type\":\"BasicTicker\"}},\"id\":\"6ef75598-d8ee-4efc-b33e-95101b1c0104\",\"type\":\"Grid\"},{\"attributes\":{\"data_source\":{\"id\":\"f0912fe6-694c-4406-a7d6-662c3d6169fc\",\"type\":\"ColumnDataSource\"},\"glyph\":{\"id\":\"14a12e40-a18a-4dc8-87fd-1021cd8b7ba4\",\"type\":\"Line\"},\"hover_glyph\":null,\"muted_glyph\":null,\"nonselection_glyph\":{\"id\":\"3d6e9094-b675-4e37-8929-2383823f5db4\",\"type\":\"Line\"},\"selection_glyph\":null,\"view\":{\"id\":\"a19ad6ff-62b4-4b26-a81a-f03d6abf9efd\",\"type\":\"CDSView\"}},\"id\":\"ff41dfb7-2b9e-442c-bd0d-5da4dccb0240\",\"type\":\"GlyphRenderer\"},{\"attributes\":{\"overlay\":{\"id\":\"ebecc0af-5e06-4883-998e-553bdb13d72c\",\"type\":\"BoxAnnotation\"}},\"id\":\"f1b8a5e9-a1fd-42f6-900a-99dc7ad8994c\",\"type\":\"BoxZoomTool\"},{\"attributes\":{\"dimension\":1,\"plot\":{\"id\":\"1b2695ab-9784-4e73-ab43-c082ea282114\",\"subtype\":\"Figure\",\"type\":\"Plot\"},\"ticker\":{\"id\":\"ad7661a3-265c-4a42-bd2f-c725c8ff1018\",\"type\":\"BasicTicker\"}},\"id\":\"3de7b258-7b37-425d-88d7-801ec3bb8cf8\",\"type\":\"Grid\"},{\"attributes\":{\"plot\":null,\"text\":\"\"},\"id\":\"958dcc96-0d31-4be1-a6d2-4986741b9f7d\",\"type\":\"Title\"},{\"attributes\":{\"fill_color\":{\"value\":\"#1f77b4\"},\"line_color\":{\"value\":\"#1f77b4\"},\"x\":{\"field\":\"x\"},\"y\":{\"field\":\"y\"}},\"id\":\"678ed8e6-d564-4179-8e8d-54c936634eb0\",\"type\":\"Circle\"},{\"attributes\":{\"callback\":null,\"data\":{\"x\":[1,2,3,4,5],\"y\":[10,20,30,40,50]},\"selected\":{\"id\":\"b2ff74f1-c976-4f1b-9086-587aa18ce347\",\"type\":\"Selection\"},\"selection_policy\":{\"id\":\"67cfbbc2-9b56-4319-bf2d-08adb68f0ed4\",\"type\":\"UnionRenderers\"}},\"id\":\"f0912fe6-694c-4406-a7d6-662c3d6169fc\",\"type\":\"ColumnDataSource\"},{\"attributes\":{},\"id\":\"b20848f2-8b35-4a88-9913-f2ccea116e74\",\"type\":\"HelpTool\"},{\"attributes\":{\"callback\":null},\"id\":\"8a569682-fdae-4eb8-bdbb-70aad18298ed\",\"type\":\"DataRange1d\"},{\"attributes\":{\"below\":[{\"id\":\"890dd7dd-06a4-4e6b-826d-3e5542ee16bd\",\"type\":\"LinearAxis\"}],\"left\":[{\"id\":\"062f72f4-af71-4c21-b117-21e433d79d52\",\"type\":\"LinearAxis\"}],\"renderers\":[{\"id\":\"890dd7dd-06a4-4e6b-826d-3e5542ee16bd\",\"type\":\"LinearAxis\"},{\"id\":\"6ef75598-d8ee-4efc-b33e-95101b1c0104\",\"type\":\"Grid\"},{\"id\":\"062f72f4-af71-4c21-b117-21e433d79d52\",\"type\":\"LinearAxis\"},{\"id\":\"3de7b258-7b37-425d-88d7-801ec3bb8cf8\",\"type\":\"Grid\"},{\"id\":\"ebecc0af-5e06-4883-998e-553bdb13d72c\",\"type\":\"BoxAnnotation\"},{\"id\":\"ff41dfb7-2b9e-442c-bd0d-5da4dccb0240\",\"type\":\"GlyphRenderer\"},{\"id\":\"2787722f-f674-4779-96d2-c9f13ee5ca4a\",\"type\":\"GlyphRenderer\"}],\"title\":{\"id\":\"958dcc96-0d31-4be1-a6d2-4986741b9f7d\",\"type\":\"Title\"},\"toolbar\":{\"id\":\"de9967c5-2e12-4aef-99f5-3fca8518fbb0\",\"type\":\"Toolbar\"},\"x_range\":{\"id\":\"8a569682-fdae-4eb8-bdbb-70aad18298ed\",\"type\":\"DataRange1d\"},\"x_scale\":{\"id\":\"3a62cec1-6b8d-4de7-abb5-356fe9355e83\",\"type\":\"LinearScale\"},\"y_range\":{\"id\":\"383da171-bbed-494b-8704-15e65ffd07d0\",\"type\":\"DataRange1d\"},\"y_scale\":{\"id\":\"2ad78d4a-e11c-4bb6-9a1e-cd87283616c7\",\"type\":\"LinearScale\"}},\"id\":\"1b2695ab-9784-4e73-ab43-c082ea282114\",\"subtype\":\"Figure\",\"type\":\"Plot\"},{\"attributes\":{\"formatter\":{\"id\":\"4cf79a25-6afa-4f48-987e-528f5d282015\",\"type\":\"BasicTickFormatter\"},\"plot\":{\"id\":\"1b2695ab-9784-4e73-ab43-c082ea282114\",\"subtype\":\"Figure\",\"type\":\"Plot\"},\"ticker\":{\"id\":\"89fbdd19-c3bf-4b7b-9704-d434f2ab0be5\",\"type\":\"BasicTicker\"}},\"id\":\"890dd7dd-06a4-4e6b-826d-3e5542ee16bd\",\"type\":\"LinearAxis\"},{\"attributes\":{},\"id\":\"bb352916-b32d-4a62-a57d-6bdf1d6df357\",\"type\":\"WheelZoomTool\"},{\"attributes\":{\"line_alpha\":0.1,\"line_color\":\"#1f77b4\",\"x\":{\"field\":\"x\"},\"y\":{\"field\":\"y\"}},\"id\":\"3d6e9094-b675-4e37-8929-2383823f5db4\",\"type\":\"Line\"},{\"attributes\":{\"source\":{\"id\":\"f0912fe6-694c-4406-a7d6-662c3d6169fc\",\"type\":\"ColumnDataSource\"}},\"id\":\"a19ad6ff-62b4-4b26-a81a-f03d6abf9efd\",\"type\":\"CDSView\"},{\"attributes\":{\"active_drag\":\"auto\",\"active_inspect\":\"auto\",\"active_scroll\":\"auto\",\"active_tap\":\"auto\",\"tools\":[{\"id\":\"204952c6-ba16-45bb-8fb0-3f3ad4ee50c7\",\"type\":\"PanTool\"},{\"id\":\"bb352916-b32d-4a62-a57d-6bdf1d6df357\",\"type\":\"WheelZoomTool\"},{\"id\":\"f1b8a5e9-a1fd-42f6-900a-99dc7ad8994c\",\"type\":\"BoxZoomTool\"},{\"id\":\"26d00c42-7746-42ae-9f01-3ec2ea9aec59\",\"type\":\"SaveTool\"},{\"id\":\"8938929b-912e-408e-964d-1f01d40efc6d\",\"type\":\"ResetTool\"},{\"id\":\"b20848f2-8b35-4a88-9913-f2ccea116e74\",\"type\":\"HelpTool\"}]},\"id\":\"de9967c5-2e12-4aef-99f5-3fca8518fbb0\",\"type\":\"Toolbar\"},{\"attributes\":{},\"id\":\"8938929b-912e-408e-964d-1f01d40efc6d\",\"type\":\"ResetTool\"},{\"attributes\":{},\"id\":\"ad7661a3-265c-4a42-bd2f-c725c8ff1018\",\"type\":\"BasicTicker\"},{\"attributes\":{},\"id\":\"4cf79a25-6afa-4f48-987e-528f5d282015\",\"type\":\"BasicTickFormatter\"},{\"attributes\":{},\"id\":\"204952c6-ba16-45bb-8fb0-3f3ad4ee50c7\",\"type\":\"PanTool\"},{\"attributes\":{},\"id\":\"971ebe02-7b33-4e47-b6e6-feef49c56cb0\",\"type\":\"BasicTickFormatter\"},{\"attributes\":{},\"id\":\"b2ff74f1-c976-4f1b-9086-587aa18ce347\",\"type\":\"Selection\"},{\"attributes\":{},\"id\":\"2ad78d4a-e11c-4bb6-9a1e-cd87283616c7\",\"type\":\"LinearScale\"},{\"attributes\":{},\"id\":\"89fbdd19-c3bf-4b7b-9704-d434f2ab0be5\",\"type\":\"BasicTicker\"},{\"attributes\":{\"line_color\":\"#1f77b4\",\"x\":{\"field\":\"x\"},\"y\":{\"field\":\"y\"}},\"id\":\"14a12e40-a18a-4dc8-87fd-1021cd8b7ba4\",\"type\":\"Line\"},{\"attributes\":{\"fill_alpha\":{\"value\":0.1},\"fill_color\":{\"value\":\"#1f77b4\"},\"line_alpha\":{\"value\":0.1},\"line_color\":{\"value\":\"#1f77b4\"},\"x\":{\"field\":\"x\"},\"y\":{\"field\":\"y\"}},\"id\":\"acb9070a-65df-4085-8053-e41af090d6a2\",\"type\":\"Circle\"},{\"attributes\":{\"bottom_units\":\"screen\",\"fill_alpha\":{\"value\":0.5},\"fill_color\":{\"value\":\"lightgrey\"},\"left_units\":\"screen\",\"level\":\"overlay\",\"line_alpha\":{\"value\":1.0},\"line_color\":{\"value\":\"black\"},\"line_dash\":[4,4],\"line_width\":{\"value\":2},\"plot\":null,\"render_mode\":\"css\",\"right_units\":\"screen\",\"top_units\":\"screen\"},\"id\":\"ebecc0af-5e06-4883-998e-553bdb13d72c\",\"type\":\"BoxAnnotation\"},{\"attributes\":{},\"id\":\"5b284475-2ae3-44ee-94ea-700932afae6c\",\"type\":\"UnionRenderers\"},{\"attributes\":{\"formatter\":{\"id\":\"971ebe02-7b33-4e47-b6e6-feef49c56cb0\",\"type\":\"BasicTickFormatter\"},\"plot\":{\"id\":\"1b2695ab-9784-4e73-ab43-c082ea282114\",\"subtype\":\"Figure\",\"type\":\"Plot\"},\"ticker\":{\"id\":\"ad7661a3-265c-4a42-bd2f-c725c8ff1018\",\"type\":\"BasicTicker\"}},\"id\":\"062f72f4-af71-4c21-b117-21e433d79d52\",\"type\":\"LinearAxis\"},{\"attributes\":{\"data_source\":{\"id\":\"9f7587cd-e684-4577-80d1-0f817ad13e5d\",\"type\":\"ColumnDataSource\"},\"glyph\":{\"id\":\"678ed8e6-d564-4179-8e8d-54c936634eb0\",\"type\":\"Circle\"},\"hover_glyph\":null,\"muted_glyph\":null,\"nonselection_glyph\":{\"id\":\"acb9070a-65df-4085-8053-e41af090d6a2\",\"type\":\"Circle\"},\"selection_glyph\":null,\"view\":{\"id\":\"7a50b747-9a58-4a69-9384-ae9eba8c2216\",\"type\":\"CDSView\"}},\"id\":\"2787722f-f674-4779-96d2-c9f13ee5ca4a\",\"type\":\"GlyphRenderer\"},{\"attributes\":{\"indices\":[],\"line_indices\":[]},\"id\":\"fd0c00e7-15b9-40e9-86e5-dde77dcd1665\",\"type\":\"Selection\"},{\"attributes\":{},\"id\":\"26d00c42-7746-42ae-9f01-3ec2ea9aec59\",\"type\":\"SaveTool\"},{\"attributes\":{},\"id\":\"67cfbbc2-9b56-4319-bf2d-08adb68f0ed4\",\"type\":\"UnionRenderers\"},{\"attributes\":{},\"id\":\"3a62cec1-6b8d-4de7-abb5-356fe9355e83\",\"type\":\"LinearScale\"},{\"attributes\":{\"source\":{\"id\":\"9f7587cd-e684-4577-80d1-0f817ad13e5d\",\"type\":\"ColumnDataSource\"}},\"id\":\"7a50b747-9a58-4a69-9384-ae9eba8c2216\",\"type\":\"CDSView\"},{\"attributes\":{\"callback\":null,\"data\":{\"x\":[1,2,3,4,5],\"y\":[10,20,30,40,50]},\"selected\":{\"id\":\"fd0c00e7-15b9-40e9-86e5-dde77dcd1665\",\"type\":\"Selection\"},\"selection_policy\":{\"id\":\"5b284475-2ae3-44ee-94ea-700932afae6c\",\"type\":\"UnionRenderers\"}},\"id\":\"9f7587cd-e684-4577-80d1-0f817ad13e5d\",\"type\":\"ColumnDataSource\"},{\"attributes\":{\"callback\":null},\"id\":\"383da171-bbed-494b-8704-15e65ffd07d0\",\"type\":\"DataRange1d\"}],\"root_ids\":[\"1b2695ab-9784-4e73-ab43-c082ea282114\"]},\"title\":\"Bokeh Application\",\"version\":\"0.12.16\"}};\n",
       "  var render_items = [{\"docid\":\"96d96281-2b27-49e5-8a5e-dcce96d672ca\",\"elementid\":\"4aad638e-bd57-4faa-9c99-a12a8126395a\",\"modelid\":\"1b2695ab-9784-4e73-ab43-c082ea282114\"}];\n",
       "  root.Bokeh.embed.embed_items_notebook(docs_json, render_items);\n",
       "\n",
       "  }\n",
       "  if (root.Bokeh !== undefined) {\n",
       "    embed_document(root);\n",
       "  } else {\n",
       "    var attempts = 0;\n",
       "    var timer = setInterval(function(root) {\n",
       "      if (root.Bokeh !== undefined) {\n",
       "        embed_document(root);\n",
       "        clearInterval(timer);\n",
       "      }\n",
       "      attempts++;\n",
       "      if (attempts > 100) {\n",
       "        console.log(\"Bokeh: ERROR: Unable to run BokehJS code because BokehJS library is missing\")\n",
       "        clearInterval(timer);\n",
       "      }\n",
       "    }, 10, root)\n",
       "  }\n",
       "})(window);"
      ],
      "application/vnd.bokehjs_exec.v0+json": ""
     },
     "metadata": {
      "application/vnd.bokehjs_exec.v0+json": {
       "id": "1b2695ab-9784-4e73-ab43-c082ea282114"
      }
     },
     "output_type": "display_data"
    }
   ],
   "source": [
    "show(p)"
   ]
  },
  {
   "cell_type": "markdown",
   "metadata": {},
   "source": [
    "These are the basic blocks of plotting in bokeh. Let's move forward and construct some more different types of plots."
   ]
  },
  {
   "cell_type": "markdown",
   "metadata": {},
   "source": [
    "#### Bar Plot"
   ]
  },
  {
   "cell_type": "markdown",
   "metadata": {},
   "source": [
    "Bar plots are the basic plots used to show the relation between categorical and the numerical value. __In order to plot bar plot using categorical values, mention the categorical value while initiating the figure by assigning the variable to x_range.__"
   ]
  },
  {
   "cell_type": "code",
   "execution_count": 27,
   "metadata": {},
   "outputs": [
    {
     "data": {
      "text/html": [
       "\n",
       "<div class=\"bk-root\">\n",
       "    <div class=\"bk-plotdiv\" id=\"c8d702ae-d609-425e-a1b5-c90c1c181e50\"></div>\n",
       "</div>"
      ]
     },
     "metadata": {},
     "output_type": "display_data"
    },
    {
     "data": {
      "application/javascript": [
       "(function(root) {\n",
       "  function embed_document(root) {\n",
       "    \n",
       "  var docs_json = {\"bb7e0e1f-883f-4ef0-af9a-b7d4631d80d3\":{\"roots\":{\"references\":[{\"attributes\":{\"callback\":null},\"id\":\"6c7dc970-016a-4020-ab87-8d42b48b15fd\",\"type\":\"DataRange1d\"},{\"attributes\":{},\"id\":\"7d083e9b-baf0-4399-a369-f825d6e23ab4\",\"type\":\"HelpTool\"},{\"attributes\":{},\"id\":\"13c6cc26-51a0-48eb-b60c-59f811bbd4d4\",\"type\":\"BasicTicker\"},{\"attributes\":{},\"id\":\"a6f67d6d-0e28-4efd-b383-a6a667111e4b\",\"type\":\"UnionRenderers\"},{\"attributes\":{},\"id\":\"3059fa79-cd3e-40de-8787-9ac4c4e0d348\",\"type\":\"LinearScale\"},{\"attributes\":{},\"id\":\"aa190361-c928-4db9-b0bf-ed81feba559f\",\"type\":\"CategoricalScale\"},{\"attributes\":{},\"id\":\"74052c59-0b96-490c-b32c-c89d056ffdaf\",\"type\":\"ResetTool\"},{\"attributes\":{\"data_source\":{\"id\":\"b900641d-fac5-4c76-a0fa-cfc85b4ce4bb\",\"type\":\"ColumnDataSource\"},\"glyph\":{\"id\":\"12b3b4b5-753e-4e16-a6af-0067c661a8f4\",\"type\":\"VBar\"},\"hover_glyph\":null,\"muted_glyph\":null,\"nonselection_glyph\":{\"id\":\"4c10bc74-9b9a-4521-9a4b-5e7124bcc3c6\",\"type\":\"VBar\"},\"selection_glyph\":null,\"view\":{\"id\":\"d0e1b9e0-1126-4751-89d5-797c1fd1a3c6\",\"type\":\"CDSView\"}},\"id\":\"fdda610f-0f81-477d-b825-2b0a1d27d615\",\"type\":\"GlyphRenderer\"},{\"attributes\":{},\"id\":\"305aded6-2a28-484b-a3cd-d63107f239a5\",\"type\":\"WheelZoomTool\"},{\"attributes\":{},\"id\":\"12e2e7f5-a9ff-4ce2-ba52-fe341312f1b5\",\"type\":\"Selection\"},{\"attributes\":{\"formatter\":{\"id\":\"d846d85d-f38c-443f-b977-ed75aafdcbaf\",\"type\":\"CategoricalTickFormatter\"},\"plot\":{\"id\":\"2e14f7e3-503b-44af-affc-abb87523fc52\",\"subtype\":\"Figure\",\"type\":\"Plot\"},\"ticker\":{\"id\":\"670b4911-d7d0-4807-8520-7d19c62d5147\",\"type\":\"CategoricalTicker\"}},\"id\":\"1c9ea9b7-6a8f-4746-a45b-4abad4a475f8\",\"type\":\"CategoricalAxis\"},{\"attributes\":{\"bottom_units\":\"screen\",\"fill_alpha\":{\"value\":0.5},\"fill_color\":{\"value\":\"lightgrey\"},\"left_units\":\"screen\",\"level\":\"overlay\",\"line_alpha\":{\"value\":1.0},\"line_color\":{\"value\":\"black\"},\"line_dash\":[4,4],\"line_width\":{\"value\":2},\"plot\":null,\"render_mode\":\"css\",\"right_units\":\"screen\",\"top_units\":\"screen\"},\"id\":\"3cf2dea8-f0d1-48d9-ab9b-e6401f8a6587\",\"type\":\"BoxAnnotation\"},{\"attributes\":{},\"id\":\"d846d85d-f38c-443f-b977-ed75aafdcbaf\",\"type\":\"CategoricalTickFormatter\"},{\"attributes\":{},\"id\":\"fa1474d8-82cc-4b3e-b51a-9a980d03130a\",\"type\":\"BasicTickFormatter\"},{\"attributes\":{\"overlay\":{\"id\":\"3cf2dea8-f0d1-48d9-ab9b-e6401f8a6587\",\"type\":\"BoxAnnotation\"}},\"id\":\"14f41b92-a91f-42dc-89d7-043002552b37\",\"type\":\"BoxZoomTool\"},{\"attributes\":{\"fill_alpha\":{\"value\":0.1},\"fill_color\":{\"value\":\"#1f77b4\"},\"line_alpha\":{\"value\":0.1},\"line_color\":{\"value\":\"#1f77b4\"},\"top\":{\"field\":\"top\"},\"width\":{\"value\":0.5},\"x\":{\"field\":\"x\"}},\"id\":\"4c10bc74-9b9a-4521-9a4b-5e7124bcc3c6\",\"type\":\"VBar\"},{\"attributes\":{\"below\":[{\"id\":\"1c9ea9b7-6a8f-4746-a45b-4abad4a475f8\",\"type\":\"CategoricalAxis\"}],\"left\":[{\"id\":\"622db544-9dc7-4ff2-a81c-ba308a21581c\",\"type\":\"LinearAxis\"}],\"renderers\":[{\"id\":\"1c9ea9b7-6a8f-4746-a45b-4abad4a475f8\",\"type\":\"CategoricalAxis\"},{\"id\":\"416e7cfe-c125-41ee-8b19-15ef93854f47\",\"type\":\"Grid\"},{\"id\":\"622db544-9dc7-4ff2-a81c-ba308a21581c\",\"type\":\"LinearAxis\"},{\"id\":\"76f4f8ad-0f38-458c-b77a-b577e4bd4540\",\"type\":\"Grid\"},{\"id\":\"3cf2dea8-f0d1-48d9-ab9b-e6401f8a6587\",\"type\":\"BoxAnnotation\"},{\"id\":\"fdda610f-0f81-477d-b825-2b0a1d27d615\",\"type\":\"GlyphRenderer\"}],\"title\":{\"id\":\"204774a4-bdcd-451c-996c-cf9d888c6203\",\"type\":\"Title\"},\"toolbar\":{\"id\":\"5e63d54d-5b49-4c4e-9da8-f43dc5c373fb\",\"type\":\"Toolbar\"},\"x_range\":{\"id\":\"c6930211-2437-4d66-9af1-384aae6fea0d\",\"type\":\"FactorRange\"},\"x_scale\":{\"id\":\"aa190361-c928-4db9-b0bf-ed81feba559f\",\"type\":\"CategoricalScale\"},\"y_range\":{\"id\":\"6c7dc970-016a-4020-ab87-8d42b48b15fd\",\"type\":\"DataRange1d\"},\"y_scale\":{\"id\":\"3059fa79-cd3e-40de-8787-9ac4c4e0d348\",\"type\":\"LinearScale\"}},\"id\":\"2e14f7e3-503b-44af-affc-abb87523fc52\",\"subtype\":\"Figure\",\"type\":\"Plot\"},{\"attributes\":{\"plot\":null,\"text\":\"\"},\"id\":\"204774a4-bdcd-451c-996c-cf9d888c6203\",\"type\":\"Title\"},{\"attributes\":{\"fill_color\":{\"value\":\"lightblue\"},\"line_color\":{\"value\":\"lightblue\"},\"top\":{\"field\":\"top\"},\"width\":{\"value\":0.5},\"x\":{\"field\":\"x\"}},\"id\":\"12b3b4b5-753e-4e16-a6af-0067c661a8f4\",\"type\":\"VBar\"},{\"attributes\":{},\"id\":\"cedff5aa-f5a9-4648-aacf-1586c016ccaa\",\"type\":\"PanTool\"},{\"attributes\":{\"dimension\":1,\"plot\":{\"id\":\"2e14f7e3-503b-44af-affc-abb87523fc52\",\"subtype\":\"Figure\",\"type\":\"Plot\"},\"ticker\":{\"id\":\"13c6cc26-51a0-48eb-b60c-59f811bbd4d4\",\"type\":\"BasicTicker\"}},\"id\":\"76f4f8ad-0f38-458c-b77a-b577e4bd4540\",\"type\":\"Grid\"},{\"attributes\":{\"callback\":null,\"data\":{\"top\":[20,15,25],\"x\":[\"a\",\"b\",\"c\"]},\"selected\":{\"id\":\"12e2e7f5-a9ff-4ce2-ba52-fe341312f1b5\",\"type\":\"Selection\"},\"selection_policy\":{\"id\":\"a6f67d6d-0e28-4efd-b383-a6a667111e4b\",\"type\":\"UnionRenderers\"}},\"id\":\"b900641d-fac5-4c76-a0fa-cfc85b4ce4bb\",\"type\":\"ColumnDataSource\"},{\"attributes\":{\"plot\":{\"id\":\"2e14f7e3-503b-44af-affc-abb87523fc52\",\"subtype\":\"Figure\",\"type\":\"Plot\"},\"ticker\":{\"id\":\"670b4911-d7d0-4807-8520-7d19c62d5147\",\"type\":\"CategoricalTicker\"}},\"id\":\"416e7cfe-c125-41ee-8b19-15ef93854f47\",\"type\":\"Grid\"},{\"attributes\":{\"source\":{\"id\":\"b900641d-fac5-4c76-a0fa-cfc85b4ce4bb\",\"type\":\"ColumnDataSource\"}},\"id\":\"d0e1b9e0-1126-4751-89d5-797c1fd1a3c6\",\"type\":\"CDSView\"},{\"attributes\":{\"active_drag\":\"auto\",\"active_inspect\":\"auto\",\"active_scroll\":\"auto\",\"active_tap\":\"auto\",\"tools\":[{\"id\":\"cedff5aa-f5a9-4648-aacf-1586c016ccaa\",\"type\":\"PanTool\"},{\"id\":\"305aded6-2a28-484b-a3cd-d63107f239a5\",\"type\":\"WheelZoomTool\"},{\"id\":\"14f41b92-a91f-42dc-89d7-043002552b37\",\"type\":\"BoxZoomTool\"},{\"id\":\"3134ef9d-7904-4dec-8ed8-593106806894\",\"type\":\"SaveTool\"},{\"id\":\"74052c59-0b96-490c-b32c-c89d056ffdaf\",\"type\":\"ResetTool\"},{\"id\":\"7d083e9b-baf0-4399-a369-f825d6e23ab4\",\"type\":\"HelpTool\"}]},\"id\":\"5e63d54d-5b49-4c4e-9da8-f43dc5c373fb\",\"type\":\"Toolbar\"},{\"attributes\":{},\"id\":\"670b4911-d7d0-4807-8520-7d19c62d5147\",\"type\":\"CategoricalTicker\"},{\"attributes\":{\"callback\":null,\"factors\":[\"a\",\"b\",\"c\"]},\"id\":\"c6930211-2437-4d66-9af1-384aae6fea0d\",\"type\":\"FactorRange\"},{\"attributes\":{},\"id\":\"3134ef9d-7904-4dec-8ed8-593106806894\",\"type\":\"SaveTool\"},{\"attributes\":{\"formatter\":{\"id\":\"fa1474d8-82cc-4b3e-b51a-9a980d03130a\",\"type\":\"BasicTickFormatter\"},\"plot\":{\"id\":\"2e14f7e3-503b-44af-affc-abb87523fc52\",\"subtype\":\"Figure\",\"type\":\"Plot\"},\"ticker\":{\"id\":\"13c6cc26-51a0-48eb-b60c-59f811bbd4d4\",\"type\":\"BasicTicker\"}},\"id\":\"622db544-9dc7-4ff2-a81c-ba308a21581c\",\"type\":\"LinearAxis\"}],\"root_ids\":[\"2e14f7e3-503b-44af-affc-abb87523fc52\"]},\"title\":\"Bokeh Application\",\"version\":\"0.12.16\"}};\n",
       "  var render_items = [{\"docid\":\"bb7e0e1f-883f-4ef0-af9a-b7d4631d80d3\",\"elementid\":\"c8d702ae-d609-425e-a1b5-c90c1c181e50\",\"modelid\":\"2e14f7e3-503b-44af-affc-abb87523fc52\"}];\n",
       "  root.Bokeh.embed.embed_items_notebook(docs_json, render_items);\n",
       "\n",
       "  }\n",
       "  if (root.Bokeh !== undefined) {\n",
       "    embed_document(root);\n",
       "  } else {\n",
       "    var attempts = 0;\n",
       "    var timer = setInterval(function(root) {\n",
       "      if (root.Bokeh !== undefined) {\n",
       "        embed_document(root);\n",
       "        clearInterval(timer);\n",
       "      }\n",
       "      attempts++;\n",
       "      if (attempts > 100) {\n",
       "        console.log(\"Bokeh: ERROR: Unable to run BokehJS code because BokehJS library is missing\")\n",
       "        clearInterval(timer);\n",
       "      }\n",
       "    }, 10, root)\n",
       "  }\n",
       "})(window);"
      ],
      "application/vnd.bokehjs_exec.v0+json": ""
     },
     "metadata": {
      "application/vnd.bokehjs_exec.v0+json": {
       "id": "2e14f7e3-503b-44af-affc-abb87523fc52"
      }
     },
     "output_type": "display_data"
    }
   ],
   "source": [
    "#Generate data\n",
    "x = ['a','b','c']\n",
    "y = [20,15,25]\n",
    "\n",
    "#Initiate plot objects\n",
    "bar = figure(x_range=x)\n",
    "\n",
    "#Create a vertical bar plot\n",
    "bar.vbar(x = x, top = y, color = 'lightblue', width = 0.5)\n",
    "\n",
    "#Print the plot\n",
    "show(bar)"
   ]
  },
  {
   "cell_type": "markdown",
   "metadata": {},
   "source": [
    "#### Scatter Plot"
   ]
  },
  {
   "cell_type": "markdown",
   "metadata": {},
   "source": [
    "Scatter plot pairs the numerical variables in x and y axis respectively to show the relation between two numeric values."
   ]
  },
  {
   "cell_type": "code",
   "execution_count": 43,
   "metadata": {},
   "outputs": [
    {
     "data": {
      "text/html": [
       "\n",
       "<div class=\"bk-root\">\n",
       "    <div class=\"bk-plotdiv\" id=\"0dbb478a-83e8-44d5-9642-ca1e21a34502\"></div>\n",
       "</div>"
      ]
     },
     "metadata": {},
     "output_type": "display_data"
    },
    {
     "data": {
      "application/javascript": [
       "(function(root) {\n",
       "  function embed_document(root) {\n",
       "    \n",
       "  var docs_json = {\"87125506-a46a-499b-a1b7-6b7692988a9f\":{\"roots\":{\"references\":[{\"attributes\":{},\"id\":\"0639173d-646a-42ee-8a7f-b669939f83f1\",\"type\":\"LinearScale\"},{\"attributes\":{},\"id\":\"c2288af3-30a3-41d6-80b7-d01e282fa00a\",\"type\":\"ResetTool\"},{\"attributes\":{\"callback\":null},\"id\":\"552d4143-51b5-4892-a9f7-cfa7db79beb8\",\"type\":\"DataRange1d\"},{\"attributes\":{},\"id\":\"3a2c54ca-c067-4c75-ac74-4d5193274e29\",\"type\":\"HelpTool\"},{\"attributes\":{\"callback\":null},\"id\":\"44fc56b8-0560-4fce-9922-c1119734ec42\",\"type\":\"DataRange1d\"},{\"attributes\":{\"data_source\":{\"id\":\"45d10f40-4d68-44a1-bb82-ce847e9dd885\",\"type\":\"ColumnDataSource\"},\"glyph\":{\"id\":\"cd0e7e2f-421f-47dd-b5fc-758bdb187d8e\",\"type\":\"Circle\"},\"hover_glyph\":null,\"muted_glyph\":null,\"nonselection_glyph\":{\"id\":\"51f9f3ad-4da4-41ff-ac49-0bee1b4c4782\",\"type\":\"Circle\"},\"selection_glyph\":null,\"view\":{\"id\":\"38a25401-eca4-4d03-866e-459bbdc66919\",\"type\":\"CDSView\"}},\"id\":\"c150f78a-d97c-45ca-8fa9-d93eb043a1d9\",\"type\":\"GlyphRenderer\"},{\"attributes\":{\"fill_alpha\":{\"value\":0.6},\"fill_color\":{\"value\":\"blue\"},\"line_alpha\":{\"value\":0.6},\"line_color\":{\"value\":\"blue\"},\"size\":{\"units\":\"screen\",\"value\":5},\"x\":{\"field\":\"x\"},\"y\":{\"field\":\"y\"}},\"id\":\"cd0e7e2f-421f-47dd-b5fc-758bdb187d8e\",\"type\":\"Circle\"},{\"attributes\":{},\"id\":\"1bd41ce9-6963-4d1e-91c6-387307442e0a\",\"type\":\"Selection\"},{\"attributes\":{},\"id\":\"5bfbd732-825c-403d-b9b3-7488f7313662\",\"type\":\"LinearScale\"},{\"attributes\":{\"plot\":null,\"text\":\"\"},\"id\":\"29958a93-fd60-452b-b57c-2cf0700d0e15\",\"type\":\"Title\"},{\"attributes\":{\"plot\":{\"id\":\"d63ce750-2a5b-4e41-9708-21bfcf419411\",\"subtype\":\"Figure\",\"type\":\"Plot\"},\"ticker\":{\"id\":\"60f4337d-7013-4058-917b-099b3c92153f\",\"type\":\"BasicTicker\"}},\"id\":\"c521943b-a895-4e24-abc9-8b0d6068594d\",\"type\":\"Grid\"},{\"attributes\":{\"formatter\":{\"id\":\"243cd0f0-9494-450a-8726-ddb945cd68cd\",\"type\":\"BasicTickFormatter\"},\"plot\":{\"id\":\"d63ce750-2a5b-4e41-9708-21bfcf419411\",\"subtype\":\"Figure\",\"type\":\"Plot\"},\"ticker\":{\"id\":\"60f4337d-7013-4058-917b-099b3c92153f\",\"type\":\"BasicTicker\"}},\"id\":\"a143f37f-458d-4160-b81e-8f4b68c953e3\",\"type\":\"LinearAxis\"},{\"attributes\":{\"active_drag\":\"auto\",\"active_inspect\":\"auto\",\"active_scroll\":\"auto\",\"active_tap\":\"auto\",\"tools\":[{\"id\":\"71e06d67-ffb0-4de6-949b-d16c25f47146\",\"type\":\"PanTool\"},{\"id\":\"c69837fa-2aa8-4791-afad-6896e809e6c2\",\"type\":\"WheelZoomTool\"},{\"id\":\"7e4dcddd-39e2-4d3c-b4a1-6e8bb6959998\",\"type\":\"BoxZoomTool\"},{\"id\":\"e7d6a3e8-edf2-46ef-8754-6d1ac5169c96\",\"type\":\"SaveTool\"},{\"id\":\"c2288af3-30a3-41d6-80b7-d01e282fa00a\",\"type\":\"ResetTool\"},{\"id\":\"3a2c54ca-c067-4c75-ac74-4d5193274e29\",\"type\":\"HelpTool\"}]},\"id\":\"30a1d87f-5506-4cea-bcff-78e4c0a8c961\",\"type\":\"Toolbar\"},{\"attributes\":{},\"id\":\"60f4337d-7013-4058-917b-099b3c92153f\",\"type\":\"BasicTicker\"},{\"attributes\":{},\"id\":\"243cd0f0-9494-450a-8726-ddb945cd68cd\",\"type\":\"BasicTickFormatter\"},{\"attributes\":{\"formatter\":{\"id\":\"9bd4b8e9-b8f6-4656-9f6f-b541cb7a2b58\",\"type\":\"BasicTickFormatter\"},\"plot\":{\"id\":\"d63ce750-2a5b-4e41-9708-21bfcf419411\",\"subtype\":\"Figure\",\"type\":\"Plot\"},\"ticker\":{\"id\":\"58c4f102-90ba-4cf0-b70e-650e04a50e18\",\"type\":\"BasicTicker\"}},\"id\":\"3c51f839-5267-4faa-8f30-1ba3a264ec30\",\"type\":\"LinearAxis\"},{\"attributes\":{},\"id\":\"58c4f102-90ba-4cf0-b70e-650e04a50e18\",\"type\":\"BasicTicker\"},{\"attributes\":{\"dimension\":1,\"plot\":{\"id\":\"d63ce750-2a5b-4e41-9708-21bfcf419411\",\"subtype\":\"Figure\",\"type\":\"Plot\"},\"ticker\":{\"id\":\"58c4f102-90ba-4cf0-b70e-650e04a50e18\",\"type\":\"BasicTicker\"}},\"id\":\"ce4a60b4-d8bb-4db0-8d8b-022fcda1b6cc\",\"type\":\"Grid\"},{\"attributes\":{\"callback\":null,\"data\":{\"x\":[1.92,4.2,1.87,2.48,2.27,4.06,1.3,4.27,3.99,1.77],\"y\":[186,342,264,417,334,326,306,427,412,121]},\"selected\":{\"id\":\"1bd41ce9-6963-4d1e-91c6-387307442e0a\",\"type\":\"Selection\"},\"selection_policy\":{\"id\":\"7b1d754a-125d-4856-b9ac-2cef7b6489d8\",\"type\":\"UnionRenderers\"}},\"id\":\"45d10f40-4d68-44a1-bb82-ce847e9dd885\",\"type\":\"ColumnDataSource\"},{\"attributes\":{\"source\":{\"id\":\"45d10f40-4d68-44a1-bb82-ce847e9dd885\",\"type\":\"ColumnDataSource\"}},\"id\":\"38a25401-eca4-4d03-866e-459bbdc66919\",\"type\":\"CDSView\"},{\"attributes\":{\"fill_alpha\":{\"value\":0.1},\"fill_color\":{\"value\":\"#1f77b4\"},\"line_alpha\":{\"value\":0.1},\"line_color\":{\"value\":\"#1f77b4\"},\"size\":{\"units\":\"screen\",\"value\":5},\"x\":{\"field\":\"x\"},\"y\":{\"field\":\"y\"}},\"id\":\"51f9f3ad-4da4-41ff-ac49-0bee1b4c4782\",\"type\":\"Circle\"},{\"attributes\":{},\"id\":\"7b1d754a-125d-4856-b9ac-2cef7b6489d8\",\"type\":\"UnionRenderers\"},{\"attributes\":{\"bottom_units\":\"screen\",\"fill_alpha\":{\"value\":0.5},\"fill_color\":{\"value\":\"lightgrey\"},\"left_units\":\"screen\",\"level\":\"overlay\",\"line_alpha\":{\"value\":1.0},\"line_color\":{\"value\":\"black\"},\"line_dash\":[4,4],\"line_width\":{\"value\":2},\"plot\":null,\"render_mode\":\"css\",\"right_units\":\"screen\",\"top_units\":\"screen\"},\"id\":\"79f3d783-85f7-4d51-bf51-a2c3fb66fea7\",\"type\":\"BoxAnnotation\"},{\"attributes\":{},\"id\":\"71e06d67-ffb0-4de6-949b-d16c25f47146\",\"type\":\"PanTool\"},{\"attributes\":{},\"id\":\"9bd4b8e9-b8f6-4656-9f6f-b541cb7a2b58\",\"type\":\"BasicTickFormatter\"},{\"attributes\":{},\"id\":\"c69837fa-2aa8-4791-afad-6896e809e6c2\",\"type\":\"WheelZoomTool\"},{\"attributes\":{\"below\":[{\"id\":\"a143f37f-458d-4160-b81e-8f4b68c953e3\",\"type\":\"LinearAxis\"}],\"left\":[{\"id\":\"3c51f839-5267-4faa-8f30-1ba3a264ec30\",\"type\":\"LinearAxis\"}],\"renderers\":[{\"id\":\"a143f37f-458d-4160-b81e-8f4b68c953e3\",\"type\":\"LinearAxis\"},{\"id\":\"c521943b-a895-4e24-abc9-8b0d6068594d\",\"type\":\"Grid\"},{\"id\":\"3c51f839-5267-4faa-8f30-1ba3a264ec30\",\"type\":\"LinearAxis\"},{\"id\":\"ce4a60b4-d8bb-4db0-8d8b-022fcda1b6cc\",\"type\":\"Grid\"},{\"id\":\"79f3d783-85f7-4d51-bf51-a2c3fb66fea7\",\"type\":\"BoxAnnotation\"},{\"id\":\"c150f78a-d97c-45ca-8fa9-d93eb043a1d9\",\"type\":\"GlyphRenderer\"}],\"title\":{\"id\":\"29958a93-fd60-452b-b57c-2cf0700d0e15\",\"type\":\"Title\"},\"toolbar\":{\"id\":\"30a1d87f-5506-4cea-bcff-78e4c0a8c961\",\"type\":\"Toolbar\"},\"x_range\":{\"id\":\"552d4143-51b5-4892-a9f7-cfa7db79beb8\",\"type\":\"DataRange1d\"},\"x_scale\":{\"id\":\"0639173d-646a-42ee-8a7f-b669939f83f1\",\"type\":\"LinearScale\"},\"y_range\":{\"id\":\"44fc56b8-0560-4fce-9922-c1119734ec42\",\"type\":\"DataRange1d\"},\"y_scale\":{\"id\":\"5bfbd732-825c-403d-b9b3-7488f7313662\",\"type\":\"LinearScale\"}},\"id\":\"d63ce750-2a5b-4e41-9708-21bfcf419411\",\"subtype\":\"Figure\",\"type\":\"Plot\"},{\"attributes\":{\"overlay\":{\"id\":\"79f3d783-85f7-4d51-bf51-a2c3fb66fea7\",\"type\":\"BoxAnnotation\"}},\"id\":\"7e4dcddd-39e2-4d3c-b4a1-6e8bb6959998\",\"type\":\"BoxZoomTool\"},{\"attributes\":{},\"id\":\"e7d6a3e8-edf2-46ef-8754-6d1ac5169c96\",\"type\":\"SaveTool\"}],\"root_ids\":[\"d63ce750-2a5b-4e41-9708-21bfcf419411\"]},\"title\":\"Bokeh Application\",\"version\":\"0.12.16\"}};\n",
       "  var render_items = [{\"docid\":\"87125506-a46a-499b-a1b7-6b7692988a9f\",\"elementid\":\"0dbb478a-83e8-44d5-9642-ca1e21a34502\",\"modelid\":\"d63ce750-2a5b-4e41-9708-21bfcf419411\"}];\n",
       "  root.Bokeh.embed.embed_items_notebook(docs_json, render_items);\n",
       "\n",
       "  }\n",
       "  if (root.Bokeh !== undefined) {\n",
       "    embed_document(root);\n",
       "  } else {\n",
       "    var attempts = 0;\n",
       "    var timer = setInterval(function(root) {\n",
       "      if (root.Bokeh !== undefined) {\n",
       "        embed_document(root);\n",
       "        clearInterval(timer);\n",
       "      }\n",
       "      attempts++;\n",
       "      if (attempts > 100) {\n",
       "        console.log(\"Bokeh: ERROR: Unable to run BokehJS code because BokehJS library is missing\")\n",
       "        clearInterval(timer);\n",
       "      }\n",
       "    }, 10, root)\n",
       "  }\n",
       "})(window);"
      ],
      "application/vnd.bokehjs_exec.v0+json": ""
     },
     "metadata": {
      "application/vnd.bokehjs_exec.v0+json": {
       "id": "d63ce750-2a5b-4e41-9708-21bfcf419411"
      }
     },
     "output_type": "display_data"
    }
   ],
   "source": [
    "#Generate data\n",
    "x = [1.92, 4.2, 1.87, 2.48, 2.27, 4.06, 1.3, 4.27, 3.99, 1.77]\n",
    "y = [186, 342, 264, 417, 334, 326, 306, 427, 412, 121]\n",
    "\n",
    "#Initiate plot objects\n",
    "scatter = figure()\n",
    "\n",
    "#Create a scatter plot\n",
    "scatter.circle(x, y, color = 'blue', alpha = 0.6, size =5)\n",
    "\n",
    "#Print the plot\n",
    "show(scatter)"
   ]
  },
  {
   "cell_type": "markdown",
   "metadata": {},
   "source": [
    "#### Line Plot"
   ]
  },
  {
   "cell_type": "markdown",
   "metadata": {},
   "source": [
    "A line plot is a graph that shows the some metrics of data occurring along a number line or a time period."
   ]
  },
  {
   "cell_type": "code",
   "execution_count": 40,
   "metadata": {},
   "outputs": [
    {
     "data": {
      "text/html": [
       "\n",
       "<div class=\"bk-root\">\n",
       "    <div class=\"bk-plotdiv\" id=\"3b68df98-8444-459f-9919-07a6b41164a7\"></div>\n",
       "</div>"
      ]
     },
     "metadata": {},
     "output_type": "display_data"
    },
    {
     "data": {
      "application/javascript": [
       "(function(root) {\n",
       "  function embed_document(root) {\n",
       "    \n",
       "  var docs_json = {\"5bbce5ea-da69-42c3-9fb9-abea2c4c8f91\":{\"roots\":{\"references\":[{\"attributes\":{},\"id\":\"2b4c5ec4-a102-4bc0-a93f-18d69349684a\",\"type\":\"BasicTickFormatter\"},{\"attributes\":{},\"id\":\"d71ab7ed-7342-4289-b5ea-14b7c6e143a2\",\"type\":\"BasicTicker\"},{\"attributes\":{\"callback\":null},\"id\":\"5b586be2-8f43-4ba1-8596-834ff2c28217\",\"type\":\"DataRange1d\"},{\"attributes\":{},\"id\":\"7ed00759-f8be-45e3-8647-b70710a34df5\",\"type\":\"LinearScale\"},{\"attributes\":{},\"id\":\"de882440-f85b-4265-ab20-d2f275266b50\",\"type\":\"ResetTool\"},{\"attributes\":{\"callback\":null,\"data\":{\"x\":[2001,2002,2003,2004,2005,2006,2007,2008,2009,2010],\"y\":[2,4,7,10,12,16,18,20,25,28]},\"selected\":{\"id\":\"2d4f738c-761b-44df-8f81-7ca1618203c3\",\"type\":\"Selection\"},\"selection_policy\":{\"id\":\"a04ce08a-6fa8-4acb-9a90-a683766895e1\",\"type\":\"UnionRenderers\"}},\"id\":\"1fe3ab06-e221-4dca-8e20-9d5438e07315\",\"type\":\"ColumnDataSource\"},{\"attributes\":{\"source\":{\"id\":\"1fe3ab06-e221-4dca-8e20-9d5438e07315\",\"type\":\"ColumnDataSource\"}},\"id\":\"49208667-e0d3-47e7-8bb5-544a3d7923a6\",\"type\":\"CDSView\"},{\"attributes\":{\"line_color\":\"green\",\"x\":{\"field\":\"x\"},\"y\":{\"field\":\"y\"}},\"id\":\"fc35781b-0331-4320-b73a-146ac4fcac49\",\"type\":\"Line\"},{\"attributes\":{\"dimension\":1,\"plot\":{\"id\":\"4693cc18-14a5-4e99-a3a6-cc4166e99daf\",\"subtype\":\"Figure\",\"type\":\"Plot\"},\"ticker\":{\"id\":\"d71ab7ed-7342-4289-b5ea-14b7c6e143a2\",\"type\":\"BasicTicker\"}},\"id\":\"326d2935-eb84-421f-badc-1ca08d93f2b8\",\"type\":\"Grid\"},{\"attributes\":{\"data_source\":{\"id\":\"1fe3ab06-e221-4dca-8e20-9d5438e07315\",\"type\":\"ColumnDataSource\"},\"glyph\":{\"id\":\"fc35781b-0331-4320-b73a-146ac4fcac49\",\"type\":\"Line\"},\"hover_glyph\":null,\"muted_glyph\":null,\"nonselection_glyph\":{\"id\":\"5ff8c645-2910-4226-8bc4-c4f78aa54225\",\"type\":\"Line\"},\"selection_glyph\":null,\"view\":{\"id\":\"49208667-e0d3-47e7-8bb5-544a3d7923a6\",\"type\":\"CDSView\"}},\"id\":\"c2123005-a5ca-4188-a8ab-0d27aa0373fa\",\"type\":\"GlyphRenderer\"},{\"attributes\":{},\"id\":\"87b7cbf3-edae-4b4b-87dc-cccf29998ca1\",\"type\":\"SaveTool\"},{\"attributes\":{\"bottom_units\":\"screen\",\"fill_alpha\":{\"value\":0.5},\"fill_color\":{\"value\":\"lightgrey\"},\"left_units\":\"screen\",\"level\":\"overlay\",\"line_alpha\":{\"value\":1.0},\"line_color\":{\"value\":\"black\"},\"line_dash\":[4,4],\"line_width\":{\"value\":2},\"plot\":null,\"render_mode\":\"css\",\"right_units\":\"screen\",\"top_units\":\"screen\"},\"id\":\"c1ee0d23-99ee-487b-a5dd-56f4a4dc198d\",\"type\":\"BoxAnnotation\"},{\"attributes\":{},\"id\":\"97f11b08-f97c-40d5-b37e-c2cd7cd1cf62\",\"type\":\"BasicTickFormatter\"},{\"attributes\":{\"plot\":{\"id\":\"4693cc18-14a5-4e99-a3a6-cc4166e99daf\",\"subtype\":\"Figure\",\"type\":\"Plot\"},\"ticker\":{\"id\":\"0a78716e-902d-4d07-8595-0d5bd43ab53c\",\"type\":\"BasicTicker\"}},\"id\":\"6ed29be7-a5f5-4d47-b080-5baa3d0b6fbe\",\"type\":\"Grid\"},{\"attributes\":{},\"id\":\"0a78716e-902d-4d07-8595-0d5bd43ab53c\",\"type\":\"BasicTicker\"},{\"attributes\":{\"active_drag\":\"auto\",\"active_inspect\":\"auto\",\"active_scroll\":\"auto\",\"active_tap\":\"auto\",\"tools\":[{\"id\":\"1f5f3bec-d0bc-4279-a832-c5fac7183d84\",\"type\":\"PanTool\"},{\"id\":\"e560d332-ecea-4d20-b03f-7e601677722c\",\"type\":\"WheelZoomTool\"},{\"id\":\"05fe4b56-75e3-438b-bdde-5a24a4127252\",\"type\":\"BoxZoomTool\"},{\"id\":\"87b7cbf3-edae-4b4b-87dc-cccf29998ca1\",\"type\":\"SaveTool\"},{\"id\":\"de882440-f85b-4265-ab20-d2f275266b50\",\"type\":\"ResetTool\"},{\"id\":\"6943b63f-0b9b-41d3-ad3a-7d54eb7568d1\",\"type\":\"HelpTool\"}]},\"id\":\"cf443b97-9581-4c9d-9c6b-a6229b4cfb70\",\"type\":\"Toolbar\"},{\"attributes\":{},\"id\":\"cff23eb1-5554-4f13-b915-a007bdee29d8\",\"type\":\"LinearScale\"},{\"attributes\":{\"plot\":null,\"text\":\"\"},\"id\":\"88fcd6f0-13b8-4c58-85bf-86a77ee72ea0\",\"type\":\"Title\"},{\"attributes\":{\"formatter\":{\"id\":\"2b4c5ec4-a102-4bc0-a93f-18d69349684a\",\"type\":\"BasicTickFormatter\"},\"plot\":{\"id\":\"4693cc18-14a5-4e99-a3a6-cc4166e99daf\",\"subtype\":\"Figure\",\"type\":\"Plot\"},\"ticker\":{\"id\":\"d71ab7ed-7342-4289-b5ea-14b7c6e143a2\",\"type\":\"BasicTicker\"}},\"id\":\"22a53ed3-e18b-4378-ad44-e8a030d4020b\",\"type\":\"LinearAxis\"},{\"attributes\":{\"formatter\":{\"id\":\"97f11b08-f97c-40d5-b37e-c2cd7cd1cf62\",\"type\":\"BasicTickFormatter\"},\"plot\":{\"id\":\"4693cc18-14a5-4e99-a3a6-cc4166e99daf\",\"subtype\":\"Figure\",\"type\":\"Plot\"},\"ticker\":{\"id\":\"0a78716e-902d-4d07-8595-0d5bd43ab53c\",\"type\":\"BasicTicker\"}},\"id\":\"bc812b46-d1e6-4e96-9ca1-04b97e4d1865\",\"type\":\"LinearAxis\"},{\"attributes\":{},\"id\":\"a04ce08a-6fa8-4acb-9a90-a683766895e1\",\"type\":\"UnionRenderers\"},{\"attributes\":{\"callback\":null},\"id\":\"6c23a495-4981-43f9-abe4-0420d871f270\",\"type\":\"DataRange1d\"},{\"attributes\":{\"line_alpha\":0.1,\"line_color\":\"#1f77b4\",\"x\":{\"field\":\"x\"},\"y\":{\"field\":\"y\"}},\"id\":\"5ff8c645-2910-4226-8bc4-c4f78aa54225\",\"type\":\"Line\"},{\"attributes\":{\"below\":[{\"id\":\"bc812b46-d1e6-4e96-9ca1-04b97e4d1865\",\"type\":\"LinearAxis\"}],\"left\":[{\"id\":\"22a53ed3-e18b-4378-ad44-e8a030d4020b\",\"type\":\"LinearAxis\"}],\"renderers\":[{\"id\":\"bc812b46-d1e6-4e96-9ca1-04b97e4d1865\",\"type\":\"LinearAxis\"},{\"id\":\"6ed29be7-a5f5-4d47-b080-5baa3d0b6fbe\",\"type\":\"Grid\"},{\"id\":\"22a53ed3-e18b-4378-ad44-e8a030d4020b\",\"type\":\"LinearAxis\"},{\"id\":\"326d2935-eb84-421f-badc-1ca08d93f2b8\",\"type\":\"Grid\"},{\"id\":\"c1ee0d23-99ee-487b-a5dd-56f4a4dc198d\",\"type\":\"BoxAnnotation\"},{\"id\":\"c2123005-a5ca-4188-a8ab-0d27aa0373fa\",\"type\":\"GlyphRenderer\"}],\"title\":{\"id\":\"88fcd6f0-13b8-4c58-85bf-86a77ee72ea0\",\"type\":\"Title\"},\"toolbar\":{\"id\":\"cf443b97-9581-4c9d-9c6b-a6229b4cfb70\",\"type\":\"Toolbar\"},\"x_range\":{\"id\":\"6c23a495-4981-43f9-abe4-0420d871f270\",\"type\":\"DataRange1d\"},\"x_scale\":{\"id\":\"cff23eb1-5554-4f13-b915-a007bdee29d8\",\"type\":\"LinearScale\"},\"y_range\":{\"id\":\"5b586be2-8f43-4ba1-8596-834ff2c28217\",\"type\":\"DataRange1d\"},\"y_scale\":{\"id\":\"7ed00759-f8be-45e3-8647-b70710a34df5\",\"type\":\"LinearScale\"}},\"id\":\"4693cc18-14a5-4e99-a3a6-cc4166e99daf\",\"subtype\":\"Figure\",\"type\":\"Plot\"},{\"attributes\":{},\"id\":\"e560d332-ecea-4d20-b03f-7e601677722c\",\"type\":\"WheelZoomTool\"},{\"attributes\":{},\"id\":\"6943b63f-0b9b-41d3-ad3a-7d54eb7568d1\",\"type\":\"HelpTool\"},{\"attributes\":{},\"id\":\"2d4f738c-761b-44df-8f81-7ca1618203c3\",\"type\":\"Selection\"},{\"attributes\":{\"overlay\":{\"id\":\"c1ee0d23-99ee-487b-a5dd-56f4a4dc198d\",\"type\":\"BoxAnnotation\"}},\"id\":\"05fe4b56-75e3-438b-bdde-5a24a4127252\",\"type\":\"BoxZoomTool\"},{\"attributes\":{},\"id\":\"1f5f3bec-d0bc-4279-a832-c5fac7183d84\",\"type\":\"PanTool\"}],\"root_ids\":[\"4693cc18-14a5-4e99-a3a6-cc4166e99daf\"]},\"title\":\"Bokeh Application\",\"version\":\"0.12.16\"}};\n",
       "  var render_items = [{\"docid\":\"5bbce5ea-da69-42c3-9fb9-abea2c4c8f91\",\"elementid\":\"3b68df98-8444-459f-9919-07a6b41164a7\",\"modelid\":\"4693cc18-14a5-4e99-a3a6-cc4166e99daf\"}];\n",
       "  root.Bokeh.embed.embed_items_notebook(docs_json, render_items);\n",
       "\n",
       "  }\n",
       "  if (root.Bokeh !== undefined) {\n",
       "    embed_document(root);\n",
       "  } else {\n",
       "    var attempts = 0;\n",
       "    var timer = setInterval(function(root) {\n",
       "      if (root.Bokeh !== undefined) {\n",
       "        embed_document(root);\n",
       "        clearInterval(timer);\n",
       "      }\n",
       "      attempts++;\n",
       "      if (attempts > 100) {\n",
       "        console.log(\"Bokeh: ERROR: Unable to run BokehJS code because BokehJS library is missing\")\n",
       "        clearInterval(timer);\n",
       "      }\n",
       "    }, 10, root)\n",
       "  }\n",
       "})(window);"
      ],
      "application/vnd.bokehjs_exec.v0+json": ""
     },
     "metadata": {
      "application/vnd.bokehjs_exec.v0+json": {
       "id": "4693cc18-14a5-4e99-a3a6-cc4166e99daf"
      }
     },
     "output_type": "display_data"
    }
   ],
   "source": [
    "#Generate data\n",
    "x = [2001,2002,2003,2004,2005,2006,2007,2008,2009,2010]\n",
    "y = [ 2, 4, 7, 10, 12, 16, 18, 20, 25, 28]\n",
    "\n",
    "#Initiate plot objects\n",
    "line = figure()\n",
    "\n",
    "#Create a line plot\n",
    "line.line(x, y, color = 'green')\n",
    "\n",
    "#Print the plot\n",
    "show(line)"
   ]
  },
  {
   "cell_type": "markdown",
   "metadata": {},
   "source": [
    "#### Summary"
   ]
  },
  {
   "cell_type": "markdown",
   "metadata": {},
   "source": [
    "In this notebook we started with the brief introduction to python's bokeh package.\n",
    "\n",
    "We learned:\n",
    "    - How to call bokeh library in python\n",
    "    - Bokeh plotting basics\n",
    "    - How to construct Bar plot, Scatter plot and Line plot using bokeh"
   ]
  }
 ],
 "metadata": {
  "kernelspec": {
   "display_name": "Python 3",
   "language": "python",
   "name": "python3"
  },
  "language_info": {
   "codemirror_mode": {
    "name": "ipython",
    "version": 3
   },
   "file_extension": ".py",
   "mimetype": "text/x-python",
   "name": "python",
   "nbconvert_exporter": "python",
   "pygments_lexer": "ipython3",
   "version": "3.6.5"
  }
 },
 "nbformat": 4,
 "nbformat_minor": 2
}
