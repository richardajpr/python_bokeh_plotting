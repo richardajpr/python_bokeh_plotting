{
 "cells": [
  {
   "cell_type": "markdown",
   "metadata": {},
   "source": [
    "### Bokeh with Numpy and Pandas"
   ]
  },
  {
   "cell_type": "markdown",
   "metadata": {},
   "source": [
    "#### Import Bokeh for plotting"
   ]
  },
  {
   "cell_type": "code",
   "execution_count": null,
   "metadata": {},
   "outputs": [],
   "source": [
    "from bokeh.plotting import figure, show\n",
    "from bokeh.io import output_notebook"
   ]
  },
  {
   "cell_type": "code",
   "execution_count": null,
   "metadata": {},
   "outputs": [],
   "source": [
    "#To display bokeh plots inline in Jupyter Notebook\n",
    "output_notebook()"
   ]
  },
  {
   "cell_type": "markdown",
   "metadata": {},
   "source": [
    "#### Working with Numpy arrays"
   ]
  },
  {
   "cell_type": "markdown",
   "metadata": {},
   "source": [
    "Numpy is nothing but numeric python. Instead of lists, numpy uses arrays for easy and faster calculations. In real time scenarios we'll be dealing a lot data analysis with numpy arrays. Bokeh deals numpy arrays just as list."
   ]
  },
  {
   "cell_type": "code",
   "execution_count": null,
   "metadata": {},
   "outputs": [],
   "source": [
    "# Import numpy library\n",
    "import numpy as np"
   ]
  },
  {
   "cell_type": "markdown",
   "metadata": {},
   "source": [
    "##### Bar Chart"
   ]
  },
  {
   "cell_type": "markdown",
   "metadata": {},
   "source": [
    "Generating random data using numpy random class and building a bar plot."
   ]
  },
  {
   "cell_type": "code",
   "execution_count": null,
   "metadata": {},
   "outputs": [],
   "source": [
    "#Generate data\n",
    "x = np.array([1,2,3,4,5])\n",
    "y = np.random.rand(5)*100\n",
    "\n",
    "#Initiate plot objects\n",
    "bar = figure(width = 500, height = 300)\n",
    "\n",
    "#Create a vertical bar plot\n",
    "bar.vbar(x = x, top = y, color = 'lightblue', width = 0.5)\n",
    "\n",
    "#Print the plot\n",
    "show(bar)"
   ]
  },
  {
   "cell_type": "markdown",
   "metadata": {},
   "source": [
    "<img src=\"./plots/03 - Bar Numpy.png\">"
   ]
  },
  {
   "cell_type": "markdown",
   "metadata": {},
   "source": [
    "##### Scatter plot"
   ]
  },
  {
   "cell_type": "markdown",
   "metadata": {},
   "source": [
    "Similar way creating random data array using numpy and plotting a scatter plot."
   ]
  },
  {
   "cell_type": "code",
   "execution_count": null,
   "metadata": {},
   "outputs": [],
   "source": [
    "np.random.seed(12)\n",
    "x = np.random.rand(10)\n",
    "y = np.random.rand(10)\n",
    "p = figure(width = 500, height = 300)\n",
    "p.scatter(x,y)\n",
    "show(p)"
   ]
  },
  {
   "cell_type": "markdown",
   "metadata": {},
   "source": [
    "<img src=\"./plots/03 - Scatter Numpy.png\">"
   ]
  },
  {
   "cell_type": "markdown",
   "metadata": {},
   "source": [
    "#### Working with Pandas"
   ]
  },
  {
   "cell_type": "markdown",
   "metadata": {},
   "source": [
    "Pandas is known as python library for data analysis. As the name suggests it is known for its high-performance containers for performing data analysis. __Series and the Data Frame__ are the two main data structures of Pandas library. The advantage over numpy arrays is that pandas data structure contains meaningful labels for explanation. It adds flexibility in plotting time series data."
   ]
  },
  {
   "cell_type": "code",
   "execution_count": null,
   "metadata": {},
   "outputs": [],
   "source": [
    "import pandas as pd"
   ]
  },
  {
   "cell_type": "markdown",
   "metadata": {},
   "source": [
    "Let's pull \"default of credit card clients\" data from UCI repository for our experiment."
   ]
  },
  {
   "cell_type": "code",
   "execution_count": null,
   "metadata": {},
   "outputs": [],
   "source": [
    "#default of credit card clients Data Set \n",
    "data = pd.read_excel('https://archive.ics.uci.edu/ml/machine-learning-databases/00350/default%20of%20credit%20card%20clients.xls',\n",
    "                     header = 1\n",
    "                    )"
   ]
  },
  {
   "cell_type": "markdown",
   "metadata": {},
   "source": [
    "The dataset is encoded by numeric variables. Let's quickly convert some of them into categorical variables."
   ]
  },
  {
   "cell_type": "code",
   "execution_count": null,
   "metadata": {},
   "outputs": [],
   "source": [
    "data['SEX'] = data['SEX'].map({1:'Male', 2:'Female'})\n",
    "data['EDUCATION'] = data['EDUCATION'].map({1: 'graduate school', 2: 'university', 3: 'high school', 4: 'others'})\n",
    "data['MARRIAGE'] = data['MARRIAGE'].map({1: 'married', 2: 'single', 3: 'others'})"
   ]
  },
  {
   "cell_type": "markdown",
   "metadata": {},
   "source": [
    "Inspecting pandas dataframe."
   ]
  },
  {
   "cell_type": "code",
   "execution_count": null,
   "metadata": {},
   "outputs": [],
   "source": [
    "data.head()"
   ]
  },
  {
   "cell_type": "markdown",
   "metadata": {},
   "source": [
    "##### Bar Chart"
   ]
  },
  {
   "cell_type": "code",
   "execution_count": null,
   "metadata": {},
   "outputs": [],
   "source": [
    "#Initiate plot objects\n",
    "bar = figure(x_range=data['SEX'].value_counts().index.tolist(),width = 500, height = 300)\n",
    "\n",
    "#Create a vertical bar plot\n",
    "bar.vbar(x = data['SEX'].value_counts().index.tolist(), top = data['SEX'].value_counts(), color = 'lightblue', width = 0.5)\n",
    "\n",
    "#Print the plot\n",
    "show(bar)"
   ]
  },
  {
   "cell_type": "markdown",
   "metadata": {},
   "source": [
    "<img src=\"./plots/03 - Bar pandas.png\">"
   ]
  },
  {
   "cell_type": "markdown",
   "metadata": {},
   "source": [
    "##### Scatter plot"
   ]
  },
  {
   "cell_type": "markdown",
   "metadata": {},
   "source": [
    "Scatter plot with 2 dimensions(x-axis & y-axis)."
   ]
  },
  {
   "cell_type": "code",
   "execution_count": null,
   "metadata": {},
   "outputs": [],
   "source": [
    "p = figure(width = 500, height = 300)\n",
    "p.scatter(data['AGE'],data['LIMIT_BAL'])\n",
    "show(p)"
   ]
  },
  {
   "cell_type": "markdown",
   "metadata": {},
   "source": [
    "<img src=\"./plots/03 - Scatter 2d.png\">"
   ]
  },
  {
   "cell_type": "markdown",
   "metadata": {},
   "source": [
    "Scatter plot with 3 dimensions(x-axis, y-axis and color/shape)."
   ]
  },
  {
   "cell_type": "code",
   "execution_count": null,
   "metadata": {},
   "outputs": [],
   "source": [
    "p = figure(width = 500, height = 300)\n",
    "p.diamond(data.loc[data['SEX'] == 'Male', 'AGE'],data.loc[data['SEX'] == 'Male', 'LIMIT_BAL'], color = 'yellow')\n",
    "p.square(data.loc[data['SEX'] == 'Female', 'AGE'],data.loc[data['SEX'] == 'Female', 'LIMIT_BAL'], color = 'pink')\n",
    "show(p)"
   ]
  },
  {
   "cell_type": "markdown",
   "metadata": {},
   "source": [
    "<img src=\"./plots/03 - Scatter 3d.png\">"
   ]
  },
  {
   "cell_type": "markdown",
   "metadata": {},
   "source": [
    "These are some of the available shapes in bokeh library."
   ]
  },
  {
   "cell_type": "code",
   "execution_count": null,
   "metadata": {},
   "outputs": [],
   "source": [
    "# Available Shapes\n",
    "# cross(), x(), diamond(), diamond_cross(), circle_x()\n",
    "# circle_cross(), triangle(), inverted_triangle(), square()\n",
    "# square_x(), square_cross(), asterisk()"
   ]
  },
  {
   "cell_type": "markdown",
   "metadata": {},
   "source": [
    "#### Time Series plotting"
   ]
  },
  {
   "cell_type": "markdown",
   "metadata": {},
   "source": [
    "Date and time are import metrics of any business. We cannot escape creating a dashboard without date/time functionality. It is important to understand how bokeh handles date and time functions for plotting."
   ]
  },
  {
   "cell_type": "markdown",
   "metadata": {},
   "source": [
    "Let's pull a use a daily level weather data for our analysis."
   ]
  },
  {
   "cell_type": "code",
   "execution_count": null,
   "metadata": {},
   "outputs": [],
   "source": [
    "#Beijing PM2.5 Data Data Set \n",
    "ts = pd.read_csv('PRSA_data_2010.1.1-2014.12.31.csv')"
   ]
  },
  {
   "cell_type": "markdown",
   "metadata": {},
   "source": [
    "Create a date variable and then parse it using pandas date-time function."
   ]
  },
  {
   "cell_type": "code",
   "execution_count": null,
   "metadata": {},
   "outputs": [],
   "source": [
    "ts['Date'] = pd.to_datetime(ts['year'].astype(str)+'/'+ts['month'].astype(str)+'/'+ts['day'].astype(str),\n",
    "                            infer_datetime_format=True)"
   ]
  },
  {
   "cell_type": "code",
   "execution_count": null,
   "metadata": {},
   "outputs": [],
   "source": [
    "ts.head()"
   ]
  },
  {
   "cell_type": "markdown",
   "metadata": {},
   "source": [
    "Aggregate the data at date level for plotting the attributes."
   ]
  },
  {
   "cell_type": "code",
   "execution_count": null,
   "metadata": {},
   "outputs": [],
   "source": [
    "dew = ts.groupby('Date')['DEWP'].mean()\n",
    "tem = ts.groupby('Date')['TEMP'].mean()"
   ]
  },
  {
   "cell_type": "markdown",
   "metadata": {},
   "source": [
    "Create a time series plot using bokeh package."
   ]
  },
  {
   "cell_type": "code",
   "execution_count": null,
   "metadata": {},
   "outputs": [],
   "source": [
    "p = figure(x_axis_type = 'datetime', width = 1000, height = 300)\n",
    "p.line(x = dew.index, y = dew.values, color = 'lightblue')\n",
    "p.line(x = tem.index, y = tem.values, color = 'lightgreen')\n",
    "show(p)"
   ]
  },
  {
   "cell_type": "markdown",
   "metadata": {},
   "source": [
    "<img src=\"./plots/03 - Time Series.png\">"
   ]
  },
  {
   "cell_type": "markdown",
   "metadata": {},
   "source": [
    "#### ColumnDataSource"
   ]
  },
  {
   "cell_type": "markdown",
   "metadata": {},
   "source": [
    "The ColumnDataSource is a fundamental data structure of Bokeh. ColumnDataSource is the object where the data of a Bokeh graph is stored. Certain functionality in bokeh plotting like popups rely on this ColumnDataSource data stucture. SO it is good practice to use ColumnDataSource when possible. There is an implicit assumption that all the columns in a given ColumnDataSource all have the same length at all times."
   ]
  },
  {
   "cell_type": "code",
   "execution_count": null,
   "metadata": {},
   "outputs": [],
   "source": [
    "from bokeh.models import ColumnDataSource"
   ]
  },
  {
   "cell_type": "markdown",
   "metadata": {},
   "source": [
    "##### Time series plotting"
   ]
  },
  {
   "cell_type": "code",
   "execution_count": null,
   "metadata": {},
   "outputs": [],
   "source": [
    "col_data = ColumnDataSource(ts.groupby('Date')['DEWP', 'TEMP'].mean().reset_index())"
   ]
  },
  {
   "cell_type": "code",
   "execution_count": null,
   "metadata": {},
   "outputs": [],
   "source": [
    "p = figure(x_axis_type = 'datetime', width = 900, height = 300)\n",
    "p.line(x = 'Date', y = 'DEWP', source = col_data, color = 'lightblue')\n",
    "p.line(x = 'Date', y = 'TEMP', source = col_data, color = 'lightgreen')\n",
    "show(p)"
   ]
  },
  {
   "cell_type": "markdown",
   "metadata": {},
   "source": [
    "<img src=\"./plots/03 - Time Series CDS.png\">"
   ]
  },
  {
   "cell_type": "markdown",
   "metadata": {},
   "source": [
    "##### Scatter Plot"
   ]
  },
  {
   "cell_type": "code",
   "execution_count": null,
   "metadata": {},
   "outputs": [],
   "source": [
    "col_data = ColumnDataSource( data = {\n",
    "    'x1': data.loc[data['SEX'] == 'Male', 'AGE'],\n",
    "    'y1': data.loc[data['SEX'] == 'Male', 'LIMIT_BAL'],\n",
    "    'x2': data.loc[data['SEX'] == 'Female', 'AGE'],\n",
    "    'y2': data.loc[data['SEX'] == 'Female', 'LIMIT_BAL']\n",
    "}\n",
    ")"
   ]
  },
  {
   "cell_type": "markdown",
   "metadata": {},
   "source": [
    "As I explained before, we can see the warning when the number of entries are different between male and female data."
   ]
  },
  {
   "cell_type": "code",
   "execution_count": null,
   "metadata": {},
   "outputs": [],
   "source": [
    "p = figure(width = 900, height = 300)\n",
    "p.circle_cross(x = 'x1', y = 'y1', source = col_data, color = 'lightblue')\n",
    "p.diamond_cross(x = 'x2', y = 'y2', source = col_data, color = 'lightgreen')\n",
    "show(p)"
   ]
  },
  {
   "cell_type": "markdown",
   "metadata": {},
   "source": [
    "<img src=\"./plots/03 - Scatter CDS.png\">"
   ]
  },
  {
   "cell_type": "markdown",
   "metadata": {},
   "source": [
    "#### Summary"
   ]
  },
  {
   "cell_type": "markdown",
   "metadata": {},
   "source": [
    "In this notebook we discovered how to use following external packages for plotting Bokeh graphs.\n",
    "* Numpy\n",
    "* Pandas\n",
    "* Time Series\n",
    "* ColumnDataSource"
   ]
  }
 ],
 "metadata": {
  "kernelspec": {
   "display_name": "Python 3",
   "language": "python",
   "name": "python3"
  },
  "language_info": {
   "codemirror_mode": {
    "name": "ipython",
    "version": 3
   },
   "file_extension": ".py",
   "mimetype": "text/x-python",
   "name": "python",
   "nbconvert_exporter": "python",
   "pygments_lexer": "ipython3",
   "version": "3.6.5"
  }
 },
 "nbformat": 4,
 "nbformat_minor": 2
}
